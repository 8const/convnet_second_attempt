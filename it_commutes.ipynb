{
 "cells": [
  {
   "cell_type": "markdown",
   "id": "48c0e967",
   "metadata": {},
   "source": [
    "# The goal is to create 2  functions:\n",
    "\n",
    "# 1. Maps convolution to dot product.\n",
    "# 2. Maps dot product to convolution.\n",
    "\n",
    "All notation is consistent with the dpf.\n",
    "It's quite essential for understanding what's going on here so please read it."
   ]
  },
  {
   "cell_type": "code",
   "execution_count": 1,
   "id": "744eadff",
   "metadata": {},
   "outputs": [],
   "source": [
    "import numpy as np\n",
    "from matplotlib.pyplot import imshow, figure\n",
    "from matplotlib.pyplot import plot\n",
    "from matplotlib.pyplot import show"
   ]
  },
  {
   "cell_type": "code",
   "execution_count": 2,
   "id": "c3320754",
   "metadata": {},
   "outputs": [],
   "source": [
    "# essential functions\n",
    "\n",
    "pixel = lambda local, kernel: (local * kernel).sum()\n",
    "get_local = lambda image, i, j: image[i:i+5, j:j+5]\n",
    "\n",
    "def conv(kernel, img):\n",
    "    result = np.zeros_like(img)[4:, 4:]\n",
    "    for i in range(0, result.shape[0]):\n",
    "        for j in range(0, result.shape[1]):\n",
    "            p =  pixel(get_local(img, i, j), kernel)\n",
    "            result[i,j] = p\n",
    "    return result\n",
    "\n",
    "def dot(M, x):\n",
    "    return M @ x"
   ]
  },
  {
   "cell_type": "code",
   "execution_count": 9,
   "id": "c2605dcd",
   "metadata": {},
   "outputs": [],
   "source": [
    "#useful stuff\n",
    "def sqr(v):\n",
    "    s = int(np.sqrt(v.shape[0] * v.shape[1]))\n",
    "    return v.reshape((s,s))\n",
    "\n",
    "def vec(m):\n",
    "    return m.reshape(-1,1)\n",
    "\n",
    "# this part is perhaps easier to understand \n",
    "# if you derive it yourself rather than read my solution\n",
    "def fst_non_zero(x):\n",
    "    assert x.shape[1] == 1\n",
    "    j = 0\n",
    "    for row in x:\n",
    "        if row[0] != 0:\n",
    "            return j\n",
    "        j +=1\n",
    "        \n",
    "def row(x, summ):\n",
    "    r =  np.zeros((1, x.shape[0]))\n",
    "    j = fst_non_zero(x)\n",
    "    r[0][j] = summ / x[j]\n",
    "    return r"
   ]
  },
  {
   "cell_type": "code",
   "execution_count": 4,
   "id": "c59e0852",
   "metadata": {},
   "outputs": [],
   "source": [
    "# matrix for a dot product equivalent to convlution with input imput sq(x) and output sq(y)\n",
    "def matrix(x, y):\n",
    "    return np.array([row(x,yy)[0] for yy in y])"
   ]
  },
  {
   "cell_type": "markdown",
   "id": "89f49a17",
   "metadata": {},
   "source": [
    "# 1. Let's test if the matrix function works."
   ]
  },
  {
   "cell_type": "code",
   "execution_count": 5,
   "id": "54e840fb",
   "metadata": {},
   "outputs": [],
   "source": [
    "X = np.load(\"/home/const/convnet/X_test.npy\").astype(\"float64\")"
   ]
  },
  {
   "cell_type": "code",
   "execution_count": 6,
   "id": "0f9589b6",
   "metadata": {},
   "outputs": [
    {
     "data": {
      "text/plain": [
       "<matplotlib.image.AxesImage at 0x7fb71dad5e20>"
      ]
     },
     "execution_count": 6,
     "metadata": {},
     "output_type": "execute_result"
    },
    {
     "data": {
      "image/png": "[encoded data removed]",
      "text/plain": [
       "<Figure size 432x288 with 1 Axes>"
      ]
     },
     "metadata": {
      "needs_background": "light"
     },
     "output_type": "display_data"
    }
   ],
   "source": [
    "imshow(X[5])"
   ]
  },
  {
   "cell_type": "code",
   "execution_count": 7,
   "id": "becbadb2",
   "metadata": {},
   "outputs": [],
   "source": [
    "x = vec(X[5])"
   ]
  },
  {
   "cell_type": "code",
   "execution_count": 23,
   "id": "d41a1ec5",
   "metadata": {
    "scrolled": true
   },
   "outputs": [],
   "source": [
    "# we have a kernel K\n",
    "K = np.random.uniform(-2,2, (5,5))\n",
    "\n",
    "# we want an equivalent matrix M\n",
    "y = vec(conv(K, sqr(x)))\n",
    "M = matrix(x, y)"
   ]
  },
  {
   "cell_type": "code",
   "execution_count": 24,
   "id": "f69c8d01",
   "metadata": {},
   "outputs": [
    {
     "data": {
      "text/plain": [
       "<matplotlib.image.AxesImage at 0x7fb71d73a2b0>"
      ]
     },
     "execution_count": 24,
     "metadata": {},
     "output_type": "execute_result"
    },
    {
     "data": {
      "image/png": "[encoded data removed]",
      "text/plain": [
       "<Figure size 432x288 with 1 Axes>"
      ]
     },
     "metadata": {
      "needs_background": "light"
     },
     "output_type": "display_data"
    }
   ],
   "source": [
    "imshow(conv(K, sqr(x)))"
   ]
  },
  {
   "cell_type": "code",
   "execution_count": 25,
   "id": "e639f486",
   "metadata": {
    "scrolled": true
   },
   "outputs": [
    {
     "data": {
      "text/plain": [
       "<matplotlib.image.AxesImage at 0x7fb71d70f910>"
      ]
     },
     "execution_count": 25,
     "metadata": {},
     "output_type": "execute_result"
    },
    {
     "data": {
      "image/png": "[encoded data removed]",
      "text/plain": [
       "<Figure size 432x288 with 1 Axes>"
      ]
     },
     "metadata": {
      "needs_background": "light"
     },
     "output_type": "display_data"
    }
   ],
   "source": [
    "imshow(sqr(dot(M, x)))"
   ]
  },
  {
   "cell_type": "code",
   "execution_count": 386,
   "id": "8285b080",
   "metadata": {},
   "outputs": [
    {
     "data": {
      "text/plain": [
       "True"
      ]
     },
     "execution_count": 386,
     "metadata": {},
     "output_type": "execute_result"
    }
   ],
   "source": [
    "np.allclose(conv(K, sqr(x)), sqr(dot(M, x)))"
   ]
  },
  {
   "cell_type": "markdown",
   "id": "cbbb8735",
   "metadata": {
    "scrolled": false
   },
   "source": [
    "  # $sqr(dot(M, x)) = conv(K, sqr(x))$"
   ]
  },
  {
   "cell_type": "markdown",
   "id": "1edf4f29",
   "metadata": {},
   "source": [
    "\n",
    "# So we've got the conv to dot part: $K   ->   M$"
   ]
  },
  {
   "cell_type": "code",
   "execution_count": 14,
   "id": "99b1243d",
   "metadata": {},
   "outputs": [
    {
     "data": {
      "text/plain": [
       "<matplotlib.image.AxesImage at 0x7fb71d89e1c0>"
      ]
     },
     "execution_count": 14,
     "metadata": {},
     "output_type": "execute_result"
    },
    {
     "data": {
      "image/png": "[encoded data removed]",
      "text/plain": [
       "<Figure size 432x288 with 1 Axes>"
      ]
     },
     "metadata": {
      "needs_background": "light"
     },
     "output_type": "display_data"
    }
   ],
   "source": [
    "# Let's redefine parameters\n",
    "#x = vec(X[35])\n",
    "imshow(X[35])"
   ]
  },
  {
   "cell_type": "code",
   "execution_count": 33,
   "id": "34fbca46",
   "metadata": {},
   "outputs": [],
   "source": [
    "# now M is known and we want K\n",
    "# new M is close to the old one though\n",
    "#M += np.random.uniform(-0.02, 0.02, (576, 784))\n",
    "M += M*0.1\n",
    "y = dot(M, x)"
   ]
  },
  {
   "cell_type": "code",
   "execution_count": 34,
   "id": "713931a7",
   "metadata": {},
   "outputs": [],
   "source": [
    "s = sqr(x)\n",
    "z = sqr(y)"
   ]
  },
  {
   "cell_type": "code",
   "execution_count": 35,
   "id": "8376f38b",
   "metadata": {},
   "outputs": [
    {
     "data": {
      "text/plain": [
       "(576, 25)"
      ]
     },
     "execution_count": 35,
     "metadata": {},
     "output_type": "execute_result"
    }
   ],
   "source": [
    "lambdas = []\n",
    "for i in range(24):\n",
    "    for j in range(24):\n",
    "        lambdas.append(get_local(s, i, j).reshape(1,-1)[0])\n",
    "        \n",
    "lambdas = np.array(lambdas)\n",
    "lambdas.shape"
   ]
  },
  {
   "cell_type": "code",
   "execution_count": 36,
   "id": "1fa3059d",
   "metadata": {},
   "outputs": [],
   "source": [
    "K = sqr(np.linalg.lstsq(lambdas, y ,rcond=0)[0])"
   ]
  },
  {
   "cell_type": "code",
   "execution_count": null,
   "id": "48e651af",
   "metadata": {},
   "outputs": [],
   "source": []
  },
  {
   "cell_type": "code",
   "execution_count": 37,
   "id": "d6da06a9",
   "metadata": {
    "scrolled": true
   },
   "outputs": [
    {
     "data": {
      "text/plain": [
       "<matplotlib.image.AxesImage at 0x7fb71d627c10>"
      ]
     },
     "execution_count": 37,
     "metadata": {},
     "output_type": "execute_result"
    },
    {
     "data": {
      "image/png": "[encoded data removed]",
      "text/plain": [
       "<Figure size 432x288 with 1 Axes>"
      ]
     },
     "metadata": {
      "needs_background": "light"
     },
     "output_type": "display_data"
    }
   ],
   "source": [
    "imshow(sqr(dot(M, x)))"
   ]
  },
  {
   "cell_type": "code",
   "execution_count": 38,
   "id": "c14fad53",
   "metadata": {
    "scrolled": true
   },
   "outputs": [
    {
     "data": {
      "text/plain": [
       "<matplotlib.image.AxesImage at 0x7fb71d5831f0>"
      ]
     },
     "execution_count": 38,
     "metadata": {},
     "output_type": "execute_result"
    },
    {
     "data": {
      "image/png": "[encoded data removed]",
      "text/plain": [
       "<Figure size 432x288 with 1 Axes>"
      ]
     },
     "metadata": {
      "needs_background": "light"
     },
     "output_type": "display_data"
    }
   ],
   "source": [
    "imshow(conv(K, sqr(x)))"
   ]
  },
  {
   "cell_type": "code",
   "execution_count": 39,
   "id": "c4a403c0",
   "metadata": {},
   "outputs": [
    {
     "data": {
      "text/plain": [
       "True"
      ]
     },
     "execution_count": 39,
     "metadata": {},
     "output_type": "execute_result"
    }
   ],
   "source": [
    "np.allclose(conv(K, sqr(x)), sqr(dot(M, x)))"
   ]
  },
  {
   "cell_type": "code",
   "execution_count": null,
   "id": "bf7f40c1",
   "metadata": {},
   "outputs": [],
   "source": []
  },
  {
   "cell_type": "markdown",
   "id": "c80acbae",
   "metadata": {},
   "source": [
    "# $sqr(dot(M, x)) = conv(K, sqr(x))$\n",
    "# Of course not all M have an equivalent K.\n",
    "# I have an intuition that all the Ms we get from grad desc do have a K though.\n",
    "# So hopefully we've got the dot to conv part: $M   -> K$\n",
    "# Let's write a function for it:"
   ]
  },
  {
   "cell_type": "code",
   "execution_count": 40,
   "id": "a27d2122",
   "metadata": {},
   "outputs": [],
   "source": [
    "def kernel(x, y):\n",
    "    s = sqr(x)\n",
    "    z = sqr(y)\n",
    "    lambdas = []\n",
    "    for i in range(24):\n",
    "        for j in range(24):\n",
    "            lambdas.append(get_local(s, i, j).reshape(1,-1)[0])\n",
    "\n",
    "    lambdas = np.array(lambdas)\n",
    "    K = sqr(np.linalg.lstsq(lambdas, y ,rcond=0)[0])\n",
    "    return K"
   ]
  },
  {
   "cell_type": "code",
   "execution_count": 42,
   "id": "fb587557",
   "metadata": {},
   "outputs": [
    {
     "data": {
      "text/plain": [
       "<matplotlib.image.AxesImage at 0x7fb71d55d8e0>"
      ]
     },
     "execution_count": 42,
     "metadata": {},
     "output_type": "execute_result"
    },
    {
     "data": {
      "image/png": "[encoded data removed]",
      "text/plain": [
       "<Figure size 432x288 with 1 Axes>"
      ]
     },
     "metadata": {
      "needs_background": "light"
     },
     "output_type": "display_data"
    }
   ],
   "source": [
    "imshow(kernel(x, y))"
   ]
  },
  {
   "cell_type": "code",
   "execution_count": null,
   "id": "e422c760",
   "metadata": {},
   "outputs": [],
   "source": []
  }
 ],
 "metadata": {
  "kernelspec": {
   "display_name": "Python 3",
   "language": "python",
   "name": "python3"
  },
  "language_info": {
   "codemirror_mode": {
    "name": "ipython",
    "version": 3
   },
   "file_extension": ".py",
   "mimetype": "text/x-python",
   "name": "python",
   "nbconvert_exporter": "python",
   "pygments_lexer": "ipython3",
   "version": "3.9.6"
  }
 },
 "nbformat": 4,
 "nbformat_minor": 5
}
