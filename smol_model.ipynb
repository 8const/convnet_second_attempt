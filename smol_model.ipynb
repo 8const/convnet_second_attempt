{
 "cells": [
  {
   "cell_type": "code",
   "execution_count": 1,
   "id": "106af4f9",
   "metadata": {},
   "outputs": [
    {
     "data": {
      "text/plain": [
       "{'divide': 'raise', 'over': 'raise', 'under': 'raise', 'invalid': 'raise'}"
      ]
     },
     "execution_count": 1,
     "metadata": {},
     "output_type": "execute_result"
    }
   ],
   "source": [
    "import numpy as np\n",
    "from matplotlib.pyplot import imshow, figure\n",
    "from matplotlib.pyplot import plot\n",
    "from matplotlib.pyplot import show\n",
    "\n",
    "np.set_printoptions(suppress=True,\n",
    "   formatter={'float_kind':'{:0.2f}'.format})\n",
    "\n",
    "\n",
    "np.seterr(all='raise')\n",
    "np.seterr()"
   ]
  },
  {
   "cell_type": "code",
   "execution_count": 12,
   "id": "2ed9c583",
   "metadata": {},
   "outputs": [],
   "source": [
    "def conv(kernel, img):\n",
    "    size = kernel.shape[0]\n",
    "    \n",
    "    pixel = lambda local, kernel: (local * kernel).sum()\n",
    "    get_local = lambda image, i, j: image[i:i+size, j:j+size]\n",
    "    \n",
    "    result = np.zeros_like(img)[size-1:, size-1:]\n",
    "    for i in range(0, result.shape[0]):\n",
    "        for j in range(0, result.shape[1]):\n",
    "            p =  pixel(get_local(img, i, j), kernel)\n",
    "            result[i,j] = p\n",
    "    return result\n",
    "\n",
    "def dot(M, x):\n",
    "    return M @ x"
   ]
  },
  {
   "cell_type": "code",
   "execution_count": 3,
   "id": "3f63eacd",
   "metadata": {},
   "outputs": [],
   "source": [
    "def sqr(v):\n",
    "    s = int(np.sqrt(v.shape[0] * v.shape[1]))\n",
    "    return v.reshape((s,s))\n",
    "\n",
    "def vec(m):\n",
    "    return m.reshape(-1,1)\n",
    "\n",
    "# this part is perhaps easier to understand \n",
    "# if you derive it yourself rather than read my solution\n",
    "def fst_non_zero(x):\n",
    "    assert x.shape[1] == 1\n",
    "    j = 0\n",
    "    for row in x:\n",
    "        if row[0] != 0:\n",
    "            return j\n",
    "        j +=1\n",
    "        \n",
    "def row(x, summ):\n",
    "    r =  np.zeros((1, x.shape[0]))\n",
    "    j = fst_non_zero(x)\n",
    "    r[0][j] = summ / x[j]\n",
    "    return r"
   ]
  },
  {
   "cell_type": "code",
   "execution_count": 4,
   "id": "5a14ab7d",
   "metadata": {},
   "outputs": [],
   "source": [
    "# matrix for a dot product equivalent to convlution with input imput sq(x) and output sq(y)\n",
    "def matrix(x, y):\n",
    "    return np.array([row(x,yy)[0] for yy in y])\n",
    "# the other way around\n",
    "def kernel(x, y):\n",
    "    s = sqr(x)\n",
    "    z = sqr(y)\n",
    "    lambdas = []\n",
    "    for i in range(24):\n",
    "        for j in range(24):\n",
    "            lambdas.append(get_local(s, i, j).reshape(1,-1)[0])\n",
    "    lambdas = np.array(lambdas)\n",
    "    K = sqr(np.linalg.lstsq(lambdas, y ,rcond=None)[0])\n",
    "    return K"
   ]
  },
  {
   "cell_type": "markdown",
   "id": "2e3cfe6c",
   "metadata": {},
   "source": [
    "# DATA"
   ]
  },
  {
   "cell_type": "code",
   "execution_count": 5,
   "id": "af7fdbfe",
   "metadata": {},
   "outputs": [
    {
     "data": {
      "image/png": "[encoded data removed]",
      "text/plain": [
       "<Figure size 432x288 with 1 Axes>"
      ]
     },
     "metadata": {
      "needs_background": "light"
     },
     "output_type": "display_data"
    }
   ],
   "source": [
    "x = np.random.uniform(-2, 2, (3,3))\n",
    "imshow(x)\n",
    "\n",
    "i = lambda: np.random.uniform(-2, 2,  (3,3))"
   ]
  },
  {
   "cell_type": "code",
   "execution_count": 6,
   "id": "2a8484f6",
   "metadata": {},
   "outputs": [
    {
     "name": "stdout",
     "output_type": "stream",
     "text": [
      "/home/const/go/src/website/numpy_mnist/solving_MNIST\r\n"
     ]
    }
   ],
   "source": [
    "! pwd"
   ]
  },
  {
   "cell_type": "code",
   "execution_count": 7,
   "id": "e1ff333e",
   "metadata": {},
   "outputs": [],
   "source": [
    "def o(inpt):\n",
    "    \n",
    "    white = np.array([[1],\n",
    "                      [0]])\n",
    "\n",
    "    black = np.array([[0],\n",
    "                      [1]])\n",
    "    \n",
    "    if inpt.sum() > 0:\n",
    "        return white\n",
    "    else:\n",
    "        return black"
   ]
  },
  {
   "cell_type": "code",
   "execution_count": 8,
   "id": "7d66761a",
   "metadata": {},
   "outputs": [],
   "source": [
    "data = [(inpt := i(), o(inpt)) for _ in range(4)] "
   ]
  },
  {
   "cell_type": "markdown",
   "id": "b607508c",
   "metadata": {},
   "source": [
    "# FORWARD PASS"
   ]
  },
  {
   "cell_type": "code",
   "execution_count": 9,
   "id": "d7b8def3",
   "metadata": {},
   "outputs": [],
   "source": [
    "kernels = np.array([np.ones((2,2))]*2)"
   ]
  },
  {
   "cell_type": "code",
   "execution_count": 13,
   "id": "1d7464dd",
   "metadata": {},
   "outputs": [
    {
     "data": {
      "text/plain": [
       "<matplotlib.image.AxesImage at 0x7fd7095df160>"
      ]
     },
     "execution_count": 13,
     "metadata": {},
     "output_type": "execute_result"
    },
    {
     "data": {
      "image/png": "[encoded data removed]",
      "text/plain": [
       "<Figure size 432x288 with 1 Axes>"
      ]
     },
     "metadata": {
      "needs_background": "light"
     },
     "output_type": "display_data"
    }
   ],
   "source": [
    "x = data[0][0]\n",
    "imshow(x)"
   ]
  },
  {
   "cell_type": "code",
   "execution_count": 14,
   "id": "eb560ef7",
   "metadata": {},
   "outputs": [
    {
     "data": {
      "text/plain": [
       "<matplotlib.image.AxesImage at 0x7fd709533760>"
      ]
     },
     "execution_count": 14,
     "metadata": {},
     "output_type": "execute_result"
    },
    {
     "data": {
      "image/png": "[encoded data removed]",
      "text/plain": [
       "<Figure size 432x288 with 1 Axes>"
      ]
     },
     "metadata": {
      "needs_background": "light"
     },
     "output_type": "display_data"
    }
   ],
   "source": [
    "imshow(conv(kernels[0], x))"
   ]
  },
  {
   "cell_type": "code",
   "execution_count": 17,
   "id": "95755a17",
   "metadata": {
    "scrolled": true
   },
   "outputs": [
    {
     "data": {
      "text/plain": [
       "[array([[0.26],\n",
       "        [2.47],\n",
       "        [-0.73],\n",
       "        [-1.53]]),\n",
       " array([[0.26],\n",
       "        [2.47],\n",
       "        [-0.73],\n",
       "        [-1.53]])]"
      ]
     },
     "execution_count": 17,
     "metadata": {},
     "output_type": "execute_result"
    }
   ],
   "source": [
    "[vec(conv(k, x)) for k in kernels]"
   ]
  },
  {
   "cell_type": "code",
   "execution_count": 21,
   "id": "8564aced",
   "metadata": {},
   "outputs": [],
   "source": [
    "c = np.concatenate([vec(conv(k, x)) for k in kernels])"
   ]
  },
  {
   "cell_type": "code",
   "execution_count": 19,
   "id": "28f45ce5",
   "metadata": {},
   "outputs": [],
   "source": [
    "W = np.random.uniform(-1,1, (2, 8))"
   ]
  },
  {
   "cell_type": "code",
   "execution_count": 25,
   "id": "a04ee923",
   "metadata": {},
   "outputs": [
    {
     "data": {
      "text/plain": [
       "array([[-0.08],\n",
       "       [1.49]])"
      ]
     },
     "execution_count": 25,
     "metadata": {},
     "output_type": "execute_result"
    }
   ],
   "source": [
    "l = W@c\n",
    "l"
   ]
  },
  {
   "cell_type": "code",
   "execution_count": 23,
   "id": "d3e88c86",
   "metadata": {},
   "outputs": [],
   "source": [
    "def softmax(x):\n",
    "    exps = np.exp(x - np.max(x))\n",
    "    return exps / np.sum(exps)"
   ]
  },
  {
   "cell_type": "code",
   "execution_count": 26,
   "id": "d9501715",
   "metadata": {},
   "outputs": [
    {
     "data": {
      "text/plain": [
       "array([[0.17],\n",
       "       [0.83]])"
      ]
     },
     "execution_count": 26,
     "metadata": {},
     "output_type": "execute_result"
    }
   ],
   "source": [
    "pred = softmax(l)"
   ]
  },
  {
   "cell_type": "code",
   "execution_count": null,
   "id": "713d30f9",
   "metadata": {},
   "outputs": [],
   "source": []
  }
 ],
 "metadata": {
  "kernelspec": {
   "display_name": "Python 3",
   "language": "python",
   "name": "python3"
  },
  "language_info": {
   "codemirror_mode": {
    "name": "ipython",
    "version": 3
   },
   "file_extension": ".py",
   "mimetype": "text/x-python",
   "name": "python",
   "nbconvert_exporter": "python",
   "pygments_lexer": "ipython3",
   "version": "3.9.6"
  }
 },
 "nbformat": 4,
 "nbformat_minor": 5
}
