{
 "cells": [
  {
   "cell_type": "code",
   "execution_count": 639,
   "id": "106af4f9",
   "metadata": {},
   "outputs": [
    {
     "data": {
      "text/plain": [
       "{'divide': 'raise', 'over': 'raise', 'under': 'warn', 'invalid': 'raise'}"
      ]
     },
     "execution_count": 639,
     "metadata": {},
     "output_type": "execute_result"
    }
   ],
   "source": [
    "import numpy as np\n",
    "from matplotlib.pyplot import imshow, figure\n",
    "from matplotlib.pyplot import plot\n",
    "from matplotlib.pyplot import show\n",
    "\n",
    "np.set_printoptions(suppress=True,\n",
    "   formatter={'float_kind':'{:0.2f}'.format})\n",
    "\n",
    "\n",
    "np.seterr(under='warn')\n",
    "np.seterr()"
   ]
  },
  {
   "cell_type": "code",
   "execution_count": 2,
   "id": "2ed9c583",
   "metadata": {},
   "outputs": [],
   "source": [
    "def conv(kernel, img):\n",
    "    size = kernel.shape[0]\n",
    "    \n",
    "    pixel = lambda local, kernel: (local * kernel).sum()\n",
    "    get_local = lambda image, i, j: image[i:i+size, j:j+size]\n",
    "    \n",
    "    result = np.zeros_like(img)[size-1:, size-1:]\n",
    "    for i in range(0, result.shape[0]):\n",
    "        for j in range(0, result.shape[1]):\n",
    "            p =  pixel(get_local(img, i, j), kernel)\n",
    "            result[i,j] = p\n",
    "    return result\n",
    "\n",
    "def dot(M, x):\n",
    "    return M @ x"
   ]
  },
  {
   "cell_type": "code",
   "execution_count": 3,
   "id": "3f63eacd",
   "metadata": {},
   "outputs": [],
   "source": [
    "def sqr(v):\n",
    "    s = int(np.sqrt(v.shape[0] * v.shape[1]))\n",
    "    return v.reshape((s,s))\n",
    "\n",
    "def vec(m):\n",
    "    return m.reshape(-1,1)\n",
    "\n",
    "# this part is perhaps easier to understand \n",
    "# if you derive it yourself rather than read my solution\n",
    "def fst_non_zero(x):\n",
    "    assert x.shape[1] == 1\n",
    "    j = 0\n",
    "    for row in x:\n",
    "        if row[0] != 0:\n",
    "            return j\n",
    "        j +=1\n",
    "        \n",
    "def row(x, summ):\n",
    "    r =  np.zeros((1, x.shape[0]))\n",
    "    j = fst_non_zero(x)\n",
    "    r[0][j] = summ / x[j]\n",
    "    return r"
   ]
  },
  {
   "cell_type": "code",
   "execution_count": 626,
   "id": "5a14ab7d",
   "metadata": {},
   "outputs": [],
   "source": [
    "# matrix for a dot product equivalent to convlution with input imput sq(x) and output sq(y)\n",
    "def matrix(x, y):\n",
    "    return np.array([row(x,yy)[0] for yy in y])\n",
    "# the other way around\n",
    "def kernel(x, y):\n",
    "    s = sqr(x)\n",
    "    z = sqr(y)\n",
    "    lambdas = []\n",
    "    for i in range(2):\n",
    "        for j in range(2):\n",
    "            lambdas.append(get_local(s, i, j).reshape(1,-1)[0])\n",
    "    lambdas = np.array(lambdas)\n",
    "    K = sqr(np.linalg.lstsq(lambdas, y ,rcond=None)[0])\n",
    "    return K"
   ]
  },
  {
   "cell_type": "markdown",
   "id": "2e3cfe6c",
   "metadata": {},
   "source": [
    "# DATA"
   ]
  },
  {
   "cell_type": "code",
   "execution_count": 664,
   "id": "af7fdbfe",
   "metadata": {},
   "outputs": [
    {
     "data": {
      "text/plain": [
       "array([[1, 1, 1],\n",
       "       [2, 2, 2],\n",
       "       [3, 3, 3]])"
      ]
     },
     "execution_count": 664,
     "metadata": {},
     "output_type": "execute_result"
    }
   ],
   "source": [
    "x = np.random.uniform(-1, 1, (3,3))\n",
    "#imshow(x)\n",
    "\n",
    "i = lambda: vr #np.random.uniform(-1, 1,  (3,3))\n",
    "\n",
    "def i():\n",
    "    if np.random.uniform(-1,1,(1,1)) > 0:\n",
    "        return vr\n",
    "    else:\n",
    "        return vr.T\n",
    "i()"
   ]
  },
  {
   "cell_type": "code",
   "execution_count": 648,
   "id": "2a8484f6",
   "metadata": {},
   "outputs": [
    {
     "data": {
      "text/plain": [
       "array([[1, 1, 1],\n",
       "       [2, 2, 2],\n",
       "       [3, 3, 3]])"
      ]
     },
     "execution_count": 648,
     "metadata": {},
     "output_type": "execute_result"
    }
   ],
   "source": [
    "i()"
   ]
  },
  {
   "cell_type": "code",
   "execution_count": 300,
   "id": "e1ff333e",
   "metadata": {},
   "outputs": [],
   "source": [
    "# output is something like\n",
    "# \"has more vertical stripes or horizontal?\"\n",
    "\n",
    "def o(inpt):\n",
    "    \n",
    "    h = np.array([[1],[0]])\n",
    "    v = np.array([[0],[1]])\n",
    "    \n",
    "    ver = np.array([[1,-1], \n",
    "                    [1,-1]])\n",
    "    hor = ver.T\n",
    "    \n",
    "    if np.abs(conv(hor, inpt)).sum() == np.abs(conv(ver, inpt)).sum():\n",
    "        print(\"BAD\")\n",
    "\n",
    "    if abs(conv(hor, inpt).sum()) > abs(conv(ver, inpt).sum()):\n",
    "        return h\n",
    "    else:\n",
    "        return v"
   ]
  },
  {
   "cell_type": "code",
   "execution_count": 462,
   "id": "7d66761a",
   "metadata": {
    "scrolled": true
   },
   "outputs": [
    {
     "name": "stdout",
     "output_type": "stream",
     "text": [
      "BAD\n",
      "BAD\n",
      "BAD\n"
     ]
    }
   ],
   "source": [
    "data = [(inpt := i(), o(inpt)) for _ in range(4096)] "
   ]
  },
  {
   "cell_type": "code",
   "execution_count": 378,
   "id": "4960c1be",
   "metadata": {},
   "outputs": [
    {
     "data": {
      "text/plain": [
       "array([[0],\n",
       "       [1]])"
      ]
     },
     "execution_count": 378,
     "metadata": {},
     "output_type": "execute_result"
    },
    {
     "data": {
      "image/png": "[encoded data removed]",
      "text/plain": [
       "<Figure size 432x288 with 1 Axes>"
      ]
     },
     "metadata": {
      "needs_background": "light"
     },
     "output_type": "display_data"
    }
   ],
   "source": [
    "x = np.random.uniform(-1, 1, (3,3))\n",
    "imshow(x)\n",
    "o(x)"
   ]
  },
  {
   "cell_type": "code",
   "execution_count": 352,
   "id": "2a7b3450",
   "metadata": {
    "collapsed": true
   },
   "outputs": [
    {
     "data": {
      "text/plain": [
       "<matplotlib.image.AxesImage at 0x7f3210498130>"
      ]
     },
     "execution_count": 352,
     "metadata": {},
     "output_type": "execute_result"
    },
    {
     "data": {
      "image/png": "[encoded data removed]",
      "text/plain": [
       "<Figure size 432x288 with 1 Axes>"
      ]
     },
     "metadata": {
      "needs_background": "light"
     },
     "output_type": "display_data"
    }
   ],
   "source": [
    "imshow(ver)"
   ]
  },
  {
   "cell_type": "code",
   "execution_count": 646,
   "id": "50ffedae",
   "metadata": {},
   "outputs": [
    {
     "name": "stdout",
     "output_type": "stream",
     "text": [
      "[[1]\n",
      " [0]]\n"
     ]
    },
    {
     "data": {
      "text/plain": [
       "<matplotlib.image.AxesImage at 0x7f32101f0520>"
      ]
     },
     "execution_count": 646,
     "metadata": {},
     "output_type": "execute_result"
    },
    {
     "data": {
      "image/png": "[encoded data removed]",
      "text/plain": [
       "<Figure size 432x288 with 1 Axes>"
      ]
     },
     "metadata": {
      "needs_background": "light"
     },
     "output_type": "display_data"
    }
   ],
   "source": [
    "vr  = np.array([[1, 2, 3], \n",
    "                [1, 2, 3],\n",
    "                [1, 2, 3]]).T\n",
    "print(o(vr))\n",
    "imshow(vr)"
   ]
  },
  {
   "cell_type": "markdown",
   "id": "b607508c",
   "metadata": {},
   "source": [
    "# FORWARD PASS"
   ]
  },
  {
   "cell_type": "code",
   "execution_count": 465,
   "id": "d7b8def3",
   "metadata": {},
   "outputs": [],
   "source": [
    "kernels = np.array([np.random.uniform(0,1,(2,2))]*2)\n"
   ]
  },
  {
   "cell_type": "code",
   "execution_count": 61,
   "id": "1d7464dd",
   "metadata": {},
   "outputs": [
    {
     "data": {
      "text/plain": [
       "<matplotlib.image.AxesImage at 0x7f3210e1c340>"
      ]
     },
     "execution_count": 61,
     "metadata": {},
     "output_type": "execute_result"
    },
    {
     "data": {
      "image/png": "[encoded data removed]",
      "text/plain": [
       "<Figure size 432x288 with 1 Axes>"
      ]
     },
     "metadata": {
      "needs_background": "light"
     },
     "output_type": "display_data"
    }
   ],
   "source": [
    "x = data[0][0]\n",
    "imshow(x)"
   ]
  },
  {
   "cell_type": "code",
   "execution_count": 62,
   "id": "eb560ef7",
   "metadata": {},
   "outputs": [
    {
     "data": {
      "text/plain": [
       "<matplotlib.image.AxesImage at 0x7f3210d794c0>"
      ]
     },
     "execution_count": 62,
     "metadata": {},
     "output_type": "execute_result"
    },
    {
     "data": {
      "image/png": "[encoded data removed]",
      "text/plain": [
       "<Figure size 432x288 with 1 Axes>"
      ]
     },
     "metadata": {
      "needs_background": "light"
     },
     "output_type": "display_data"
    }
   ],
   "source": [
    "imshow(conv(kernels[0], x))"
   ]
  },
  {
   "cell_type": "code",
   "execution_count": 63,
   "id": "95755a17",
   "metadata": {
    "scrolled": true
   },
   "outputs": [
    {
     "data": {
      "text/plain": [
       "[array([[-0.74],\n",
       "        [1.39],\n",
       "        [-0.82],\n",
       "        [-1.46]]),\n",
       " array([[-0.74],\n",
       "        [1.39],\n",
       "        [-0.82],\n",
       "        [-1.46]])]"
      ]
     },
     "execution_count": 63,
     "metadata": {},
     "output_type": "execute_result"
    }
   ],
   "source": [
    "[vec(conv(k, x)) for k in kernels]"
   ]
  },
  {
   "cell_type": "code",
   "execution_count": 13,
   "id": "8564aced",
   "metadata": {},
   "outputs": [],
   "source": [
    "c = np.concatenate([vec(conv(k, x)) for k in kernels])"
   ]
  },
  {
   "cell_type": "code",
   "execution_count": 381,
   "id": "28f45ce5",
   "metadata": {},
   "outputs": [],
   "source": [
    "W = np.random.uniform(-1,1, (2, 8))"
   ]
  },
  {
   "cell_type": "code",
   "execution_count": 67,
   "id": "a04ee923",
   "metadata": {},
   "outputs": [
    {
     "ename": "ValueError",
     "evalue": "matmul: Input operand 1 has a mismatch in its core dimension 0, with gufunc signature (n?,k),(k,m?)->(n?,m?) (size 4 is different from 8)",
     "output_type": "error",
     "traceback": [
      "\u001b[0;31m---------------------------------------------------------------------------\u001b[0m",
      "\u001b[0;31mValueError\u001b[0m                                Traceback (most recent call last)",
      "\u001b[0;32m<ipython-input-67-207eaee93c9e>\u001b[0m in \u001b[0;36m<module>\u001b[0;34m\u001b[0m\n\u001b[0;32m----> 1\u001b[0;31m \u001b[0ml\u001b[0m \u001b[0;34m=\u001b[0m \u001b[0mW\u001b[0m\u001b[0;34m@\u001b[0m\u001b[0mc\u001b[0m\u001b[0;34m\u001b[0m\u001b[0;34m\u001b[0m\u001b[0m\n\u001b[0m\u001b[1;32m      2\u001b[0m \u001b[0ml\u001b[0m\u001b[0;34m\u001b[0m\u001b[0;34m\u001b[0m\u001b[0m\n",
      "\u001b[0;31mValueError\u001b[0m: matmul: Input operand 1 has a mismatch in its core dimension 0, with gufunc signature (n?,k),(k,m?)->(n?,m?) (size 4 is different from 8)"
     ]
    }
   ],
   "source": [
    "l = W@c\n",
    "l"
   ]
  },
  {
   "cell_type": "code",
   "execution_count": 523,
   "id": "d3e88c86",
   "metadata": {},
   "outputs": [],
   "source": [
    "def softmax(x):\n",
    "    exps = np.exp(x - np.max(x))\n",
    "    return exps / np.sum(exps)\n",
    "\n",
    "def m(m, n):\n",
    "    matrix = np.random.uniform(-1, 1, size=(m,n))\n",
    "    return matrix / np.sqrt(m*n)\n",
    "\n",
    "relu = lambda x: np.maximum(x, 0.)\n",
    "\n",
    "\n",
    "#layer 2 activation\n",
    "def matrix_softmax(m):\n",
    "    return np.apply_along_axis(softmax, 0, m)"
   ]
  },
  {
   "cell_type": "code",
   "execution_count": 17,
   "id": "d9501715",
   "metadata": {},
   "outputs": [],
   "source": [
    "pred = softmax(l)"
   ]
  },
  {
   "cell_type": "code",
   "execution_count": 18,
   "id": "713d30f9",
   "metadata": {},
   "outputs": [
    {
     "data": {
      "text/plain": [
       "array([[0.03],\n",
       "       [0.97]])"
      ]
     },
     "execution_count": 18,
     "metadata": {},
     "output_type": "execute_result"
    }
   ],
   "source": [
    "pred"
   ]
  },
  {
   "cell_type": "code",
   "execution_count": 19,
   "id": "7ebdec46",
   "metadata": {},
   "outputs": [
    {
     "name": "stdout",
     "output_type": "stream",
     "text": [
      "/home/const/go/src/website/numpy_mnist/solving_MNIST\r\n"
     ]
    }
   ],
   "source": [
    "!pwd"
   ]
  },
  {
   "cell_type": "code",
   "execution_count": null,
   "id": "1057ead4",
   "metadata": {},
   "outputs": [],
   "source": [
    "def dconv_dk(x, k):\n",
    "    \n",
    "    y = vec(conv(k, sqr(x)))\n",
    "    \n",
    "    m = matrix(x, y)\n",
    "    #l = m @ x\n",
    "    \n",
    "    dl_dx = m\n",
    "\n",
    "\n",
    "    return kernel(x, l)"
   ]
  },
  {
   "cell_type": "code",
   "execution_count": 92,
   "id": "37766b99",
   "metadata": {},
   "outputs": [],
   "source": [
    "def grads(train, labels, W0, W1, b0, b1):\n",
    "\n",
    "    x0 = train\n",
    "    x1 = W0 @ x0 + b0\n",
    "    l1 = relu(x1)\n",
    "    x2 = W1 @ l1 + b1\n",
    "    l2 = matrix_softmax(x2[0])\n",
    "\n",
    "    dloss_dx2 = (l2 - labels).T\n",
    "    dx2_dl1 = W1\n",
    "    dx1_dW0 = x0[0]\n",
    "    dx2_dW1 = (l1[0].T)\n",
    " \n",
    "    dloss_dW0 = ((dloss_dx2 @ dx2_dl1) * ((l1[0]>0) + 0.).T ).T @ dx1_dW0.T\n",
    "    dloss_dW1 = dloss_dx2.T @ dx2_dW1\n",
    "    dloss_db0 = ((dloss_dx2 @ dx2_dl1 * (l1[0]>0).T  )).sum(axis=0).reshape(-1,1)\n",
    "    dloss_db1 = (dloss_dx2.T).sum(axis=1).reshape(-1,1)\n",
    "    \n",
    "    return (dloss_dW0, dloss_dW1, dloss_db0, dloss_db1)"
   ]
  },
  {
   "cell_type": "code",
   "execution_count": 93,
   "id": "eeb09d40",
   "metadata": {},
   "outputs": [],
   "source": [
    "def convlayer(kenrels, x):\n",
    "    return np.concatenate([vec(conv(k, x)) for k in kernels])"
   ]
  },
  {
   "cell_type": "code",
   "execution_count": 505,
   "id": "83fc7e92",
   "metadata": {},
   "outputs": [],
   "source": [
    "# \"easy\" means they are from fully connected layers\n",
    "# and not from conv layers\n",
    "def easy_grads(x, y_hat, W, b):\n",
    "\n",
    "    c = [vec(conv(k, x)) for k in kernels]\n",
    "    x1 = np.concatenate(c)\n",
    "    l1 = relu(x1)\n",
    "    \n",
    "    x2 = W @ l1 + b\n",
    "    l2 = softmax(x2)\n",
    "     \n",
    "\n",
    "    dloss_dx2 = l2 - y_hat\n",
    "    dx2_dl1 = W\n",
    "    dx2_dW  = l1.T\n",
    " \n",
    "    dloss_dW = dloss_dx2 @ dx2_dW\n",
    "    dloss_db = dloss_dx2.sum(axis=1).reshape(-1,1)\n",
    "    \n",
    "    return dloss_dx2, dx2_dl1, dloss_dW,  dloss_db"
   ]
  },
  {
   "cell_type": "code",
   "execution_count": 665,
   "id": "04f26c69",
   "metadata": {},
   "outputs": [
    {
     "name": "stderr",
     "output_type": "stream",
     "text": [
      "<ipython-input-523-a6aa9fd09820>:2: RuntimeWarning: underflow encountered in exp\n",
      "  exps = np.exp(x - np.max(x))\n"
     ]
    }
   ],
   "source": [
    "pixel = lambda local, kernel: (local * kernel).sum()\n",
    "get_local = lambda image, i, j: image[i:i+2, j:j+2]\n",
    "\n",
    "data = [(inpt := i(), o(inpt)) for _ in range(2000)] \n",
    "\n",
    "W = m(2, 8)\n",
    "b = m(2, 1)\n",
    "\n",
    "\n",
    "lr = 0.01\n",
    "for pair in data:\n",
    "    \n",
    "    x, y = pair\n",
    "    dloss_dx2, dx2_dl1, dloss_dW, dloss_db = easy_grads(x, y, W, b)\n",
    "\n",
    "    \n",
    "    \n",
    "    c = [vec(conv(k, x)) for k in kernels]\n",
    "    x1 = np.concatenate(c)\n",
    "    m0 = matrix(vec(x), c[0])\n",
    "    m1 = matrix(vec(x), c[1])\n",
    "\n",
    "    \n",
    "    \n",
    "    dl1_dx1 = (x1>0.) + 0.\n",
    "    dx1_dm0 = np.concatenate([vec(x)]*4, axis=1).T\n",
    "    dx1_dm1 = np.concatenate([vec(x)]*4, axis=1).T\n",
    "    dloss_dm0 = (dloss_dx2.T @ (dx2_dl1 @ dl1_dx1)) * dx1_dm0\n",
    "    dloss_dm1 = (dloss_dx2.T @ (dx2_dl1 @ dl1_dx1)) * dx1_dm1\n",
    "    m0 = m0 - dloss_dm0 * lr\n",
    "    m1 = m1 - dloss_dm1 * lr\n",
    "\n",
    "    kernels = [kernel(x, (m0 @ vec(x))), kernel(x, (m1 @ vec(x)))]\n",
    "    W = W - dloss_dW * lr\n",
    "    b = b - dloss_db * lr"
   ]
  },
  {
   "cell_type": "code",
   "execution_count": 628,
   "id": "aafbb7d2",
   "metadata": {},
   "outputs": [
    {
     "name": "stdout",
     "output_type": "stream",
     "text": [
      "(1, 2) (2, 8) (8, 1) (4, 9)\n"
     ]
    }
   ],
   "source": [
    "print(dloss_dx2.T.shape, dx2_dl1.shape, dl1_dx1.shape, dx1_dm0.shape)"
   ]
  },
  {
   "cell_type": "code",
   "execution_count": 518,
   "id": "3829b7c9",
   "metadata": {},
   "outputs": [
    {
     "data": {
      "text/plain": [
       "array([[0.37, 0.29, 0.53],\n",
       "       [-0.97, -0.67, -0.42],\n",
       "       [0.09, -0.35, 0.36]])"
      ]
     },
     "execution_count": 518,
     "metadata": {},
     "output_type": "execute_result"
    }
   ],
   "source": [
    "x"
   ]
  },
  {
   "cell_type": "code",
   "execution_count": 667,
   "id": "1e4bb372",
   "metadata": {},
   "outputs": [
    {
     "name": "stderr",
     "output_type": "stream",
     "text": [
      "<ipython-input-523-a6aa9fd09820>:2: RuntimeWarning: underflow encountered in exp\n",
      "  exps = np.exp(x - np.max(x))\n"
     ]
    },
    {
     "data": {
      "text/plain": [
       "0"
      ]
     },
     "execution_count": 667,
     "metadata": {},
     "output_type": "execute_result"
    }
   ],
   "source": [
    "err = 0\n",
    "data = [(inpt := i(), o(inpt)) for _ in range(2000)] \n",
    "\n",
    "for pair in data:\n",
    "    x = pair[0]\n",
    "    c = [vec(conv(k, x)) for k in kernels]\n",
    "    x1 = np.concatenate(c)\n",
    "    l1 = relu(x1)\n",
    "    \n",
    "    x2 = W @ l1 + b\n",
    "    l2 = softmax(x2)\n",
    "    if np.argmax(l2) == np.argmax(pair[1]):\n",
    "        pass\n",
    "    else:\n",
    "        err+=1\n",
    "err"
   ]
  },
  {
   "cell_type": "code",
   "execution_count": 488,
   "id": "4b3f16df",
   "metadata": {},
   "outputs": [],
   "source": [
    "a = np.array([1,2,-1,-2,1])"
   ]
  },
  {
   "cell_type": "code",
   "execution_count": 494,
   "id": "6a727ade",
   "metadata": {},
   "outputs": [],
   "source": [
    "def relu_prime(a):\n",
    "    b = np.copy(a)\n",
    "    b[b<=0]=0\n",
    "    b[b>0]=1\n",
    "    return b\n"
   ]
  },
  {
   "cell_type": "code",
   "execution_count": 504,
   "id": "5a0c7ffd",
   "metadata": {},
   "outputs": [
    {
     "data": {
      "text/plain": [
       "array([1.00, 1.00, 0.00, 0.00, 1.00])"
      ]
     },
     "execution_count": 504,
     "metadata": {},
     "output_type": "execute_result"
    }
   ],
   "source": [
    "((a>0.0) + 0.0)"
   ]
  },
  {
   "cell_type": "code",
   "execution_count": 585,
   "id": "602187d8",
   "metadata": {},
   "outputs": [
    {
     "data": {
      "text/plain": [
       "(4, 9)"
      ]
     },
     "execution_count": 585,
     "metadata": {},
     "output_type": "execute_result"
    }
   ],
   "source": [
    "m0.shape"
   ]
  },
  {
   "cell_type": "code",
   "execution_count": 538,
   "id": "e2d79930",
   "metadata": {},
   "outputs": [
    {
     "data": {
      "text/plain": [
       "(8, 1)"
      ]
     },
     "execution_count": 538,
     "metadata": {},
     "output_type": "execute_result"
    }
   ],
   "source": [
    "x1.shape"
   ]
  },
  {
   "cell_type": "code",
   "execution_count": 541,
   "id": "5be32cb3",
   "metadata": {},
   "outputs": [
    {
     "data": {
      "text/plain": [
       "array([[0.96, -0.28, 1.18, 0.84, -0.04, -0.28, 1.18, 0.84],\n",
       "       [6.85, -0.28, 1.18, 0.84, -0.04, -0.28, 1.18, 0.84],\n",
       "       [-29.69, -0.28, 1.18, 0.84, -0.04, -0.28, 1.18, 0.84],\n",
       "       [-21.08, -0.28, 1.18, 0.84, -0.04, -0.28, 1.18, 0.84]])"
      ]
     },
     "execution_count": 541,
     "metadata": {},
     "output_type": "execute_result"
    }
   ],
   "source": [
    "m0 - x1.T"
   ]
  },
  {
   "cell_type": "code",
   "execution_count": 542,
   "id": "d86cd0c1",
   "metadata": {},
   "outputs": [
    {
     "data": {
      "text/plain": [
       "array([[0.96, -0.28, 1.18, 0.84, -0.04, -0.28, 1.18, 0.84],\n",
       "       [6.85, -0.28, 1.18, 0.84, -0.04, -0.28, 1.18, 0.84],\n",
       "       [-29.69, -0.28, 1.18, 0.84, -0.04, -0.28, 1.18, 0.84],\n",
       "       [-21.08, -0.28, 1.18, 0.84, -0.04, -0.28, 1.18, 0.84]])"
      ]
     },
     "execution_count": 542,
     "metadata": {},
     "output_type": "execute_result"
    }
   ],
   "source": [
    "m0 - np.concatenate([x1.T]*4)"
   ]
  },
  {
   "cell_type": "code",
   "execution_count": 544,
   "id": "81d49c2f",
   "metadata": {},
   "outputs": [
    {
     "data": {
      "text/plain": [
       "(4, 8)"
      ]
     },
     "execution_count": 544,
     "metadata": {},
     "output_type": "execute_result"
    }
   ],
   "source": [
    "np.concatenate([x1.T]*4).shape"
   ]
  },
  {
   "cell_type": "code",
   "execution_count": 606,
   "id": "7686f642",
   "metadata": {},
   "outputs": [
    {
     "data": {
      "text/plain": [
       "array([[0.04],\n",
       "       [0.27],\n",
       "       [-1.18],\n",
       "       [-0.84]])"
      ]
     },
     "execution_count": 606,
     "metadata": {},
     "output_type": "execute_result"
    }
   ],
   "source": [
    "vec((m0 @ vec(x)))"
   ]
  },
  {
   "cell_type": "code",
   "execution_count": 625,
   "id": "45d59877",
   "metadata": {},
   "outputs": [
    {
     "name": "stderr",
     "output_type": "stream",
     "text": [
      "<ipython-input-621-28efe9bd47ac>:12: VisibleDeprecationWarning: Creating an ndarray from ragged nested sequences (which is a list-or-tuple of lists-or-tuples-or ndarrays with different lengths or shapes) is deprecated. If you meant to do this, you must specify 'dtype=object' when creating the ndarray\n",
      "  lambdas = np.array(lambdas)\n"
     ]
    },
    {
     "ename": "LinAlgError",
     "evalue": "1-dimensional array given. Array must be two-dimensional",
     "output_type": "error",
     "traceback": [
      "\u001b[0;31m---------------------------------------------------------------------------\u001b[0m",
      "\u001b[0;31mLinAlgError\u001b[0m                               Traceback (most recent call last)",
      "\u001b[0;32m<ipython-input-625-f7ac61bbdaa4>\u001b[0m in \u001b[0;36m<module>\u001b[0;34m\u001b[0m\n\u001b[0;32m----> 1\u001b[0;31m \u001b[0mkernel\u001b[0m\u001b[0;34m(\u001b[0m\u001b[0mvec\u001b[0m\u001b[0;34m(\u001b[0m\u001b[0mx\u001b[0m\u001b[0;34m)\u001b[0m\u001b[0;34m,\u001b[0m \u001b[0mvec\u001b[0m\u001b[0;34m(\u001b[0m\u001b[0mm0\u001b[0m \u001b[0;34m@\u001b[0m \u001b[0mvec\u001b[0m\u001b[0;34m(\u001b[0m\u001b[0mx\u001b[0m\u001b[0;34m)\u001b[0m\u001b[0;34m)\u001b[0m\u001b[0;34m)\u001b[0m\u001b[0;34m\u001b[0m\u001b[0;34m\u001b[0m\u001b[0m\n\u001b[0m",
      "\u001b[0;32m<ipython-input-621-28efe9bd47ac>\u001b[0m in \u001b[0;36mkernel\u001b[0;34m(x, y)\u001b[0m\n\u001b[1;32m     11\u001b[0m             \u001b[0mlambdas\u001b[0m\u001b[0;34m.\u001b[0m\u001b[0mappend\u001b[0m\u001b[0;34m(\u001b[0m\u001b[0mget_local\u001b[0m\u001b[0;34m(\u001b[0m\u001b[0ms\u001b[0m\u001b[0;34m,\u001b[0m \u001b[0mi\u001b[0m\u001b[0;34m,\u001b[0m \u001b[0mj\u001b[0m\u001b[0;34m)\u001b[0m\u001b[0;34m.\u001b[0m\u001b[0mreshape\u001b[0m\u001b[0;34m(\u001b[0m\u001b[0;36m1\u001b[0m\u001b[0;34m,\u001b[0m\u001b[0;34m-\u001b[0m\u001b[0;36m1\u001b[0m\u001b[0;34m)\u001b[0m\u001b[0;34m[\u001b[0m\u001b[0;36m0\u001b[0m\u001b[0;34m]\u001b[0m\u001b[0;34m)\u001b[0m\u001b[0;34m\u001b[0m\u001b[0;34m\u001b[0m\u001b[0m\n\u001b[1;32m     12\u001b[0m     \u001b[0mlambdas\u001b[0m \u001b[0;34m=\u001b[0m \u001b[0mnp\u001b[0m\u001b[0;34m.\u001b[0m\u001b[0marray\u001b[0m\u001b[0;34m(\u001b[0m\u001b[0mlambdas\u001b[0m\u001b[0;34m)\u001b[0m\u001b[0;34m\u001b[0m\u001b[0;34m\u001b[0m\u001b[0m\n\u001b[0;32m---> 13\u001b[0;31m     \u001b[0mK\u001b[0m \u001b[0;34m=\u001b[0m \u001b[0msqr\u001b[0m\u001b[0;34m(\u001b[0m\u001b[0mnp\u001b[0m\u001b[0;34m.\u001b[0m\u001b[0mlinalg\u001b[0m\u001b[0;34m.\u001b[0m\u001b[0mlstsq\u001b[0m\u001b[0;34m(\u001b[0m\u001b[0mlambdas\u001b[0m\u001b[0;34m,\u001b[0m \u001b[0my\u001b[0m \u001b[0;34m,\u001b[0m\u001b[0mrcond\u001b[0m\u001b[0;34m=\u001b[0m\u001b[0;32mNone\u001b[0m\u001b[0;34m)\u001b[0m\u001b[0;34m[\u001b[0m\u001b[0;36m0\u001b[0m\u001b[0;34m]\u001b[0m\u001b[0;34m)\u001b[0m\u001b[0;34m\u001b[0m\u001b[0;34m\u001b[0m\u001b[0m\n\u001b[0m\u001b[1;32m     14\u001b[0m     \u001b[0;32mreturn\u001b[0m \u001b[0mK\u001b[0m\u001b[0;34m\u001b[0m\u001b[0;34m\u001b[0m\u001b[0m\n",
      "\u001b[0;32m<__array_function__ internals>\u001b[0m in \u001b[0;36mlstsq\u001b[0;34m(*args, **kwargs)\u001b[0m\n",
      "\u001b[0;32m~/.local/lib/python3.9/site-packages/numpy/linalg/linalg.py\u001b[0m in \u001b[0;36mlstsq\u001b[0;34m(a, b, rcond)\u001b[0m\n\u001b[1;32m   2269\u001b[0m     \u001b[0;32mif\u001b[0m \u001b[0mis_1d\u001b[0m\u001b[0;34m:\u001b[0m\u001b[0;34m\u001b[0m\u001b[0;34m\u001b[0m\u001b[0m\n\u001b[1;32m   2270\u001b[0m         \u001b[0mb\u001b[0m \u001b[0;34m=\u001b[0m \u001b[0mb\u001b[0m\u001b[0;34m[\u001b[0m\u001b[0;34m:\u001b[0m\u001b[0;34m,\u001b[0m \u001b[0mnewaxis\u001b[0m\u001b[0;34m]\u001b[0m\u001b[0;34m\u001b[0m\u001b[0;34m\u001b[0m\u001b[0m\n\u001b[0;32m-> 2271\u001b[0;31m     \u001b[0m_assert_2d\u001b[0m\u001b[0;34m(\u001b[0m\u001b[0ma\u001b[0m\u001b[0;34m,\u001b[0m \u001b[0mb\u001b[0m\u001b[0;34m)\u001b[0m\u001b[0;34m\u001b[0m\u001b[0;34m\u001b[0m\u001b[0m\n\u001b[0m\u001b[1;32m   2272\u001b[0m     \u001b[0mm\u001b[0m\u001b[0;34m,\u001b[0m \u001b[0mn\u001b[0m \u001b[0;34m=\u001b[0m \u001b[0ma\u001b[0m\u001b[0;34m.\u001b[0m\u001b[0mshape\u001b[0m\u001b[0;34m[\u001b[0m\u001b[0;34m-\u001b[0m\u001b[0;36m2\u001b[0m\u001b[0;34m:\u001b[0m\u001b[0;34m]\u001b[0m\u001b[0;34m\u001b[0m\u001b[0;34m\u001b[0m\u001b[0m\n\u001b[1;32m   2273\u001b[0m     \u001b[0mm2\u001b[0m\u001b[0;34m,\u001b[0m \u001b[0mn_rhs\u001b[0m \u001b[0;34m=\u001b[0m \u001b[0mb\u001b[0m\u001b[0;34m.\u001b[0m\u001b[0mshape\u001b[0m\u001b[0;34m[\u001b[0m\u001b[0;34m-\u001b[0m\u001b[0;36m2\u001b[0m\u001b[0;34m:\u001b[0m\u001b[0;34m]\u001b[0m\u001b[0;34m\u001b[0m\u001b[0;34m\u001b[0m\u001b[0m\n",
      "\u001b[0;32m~/.local/lib/python3.9/site-packages/numpy/linalg/linalg.py\u001b[0m in \u001b[0;36m_assert_2d\u001b[0;34m(*arrays)\u001b[0m\n\u001b[1;32m    189\u001b[0m     \u001b[0;32mfor\u001b[0m \u001b[0ma\u001b[0m \u001b[0;32min\u001b[0m \u001b[0marrays\u001b[0m\u001b[0;34m:\u001b[0m\u001b[0;34m\u001b[0m\u001b[0;34m\u001b[0m\u001b[0m\n\u001b[1;32m    190\u001b[0m         \u001b[0;32mif\u001b[0m \u001b[0ma\u001b[0m\u001b[0;34m.\u001b[0m\u001b[0mndim\u001b[0m \u001b[0;34m!=\u001b[0m \u001b[0;36m2\u001b[0m\u001b[0;34m:\u001b[0m\u001b[0;34m\u001b[0m\u001b[0;34m\u001b[0m\u001b[0m\n\u001b[0;32m--> 191\u001b[0;31m             raise LinAlgError('%d-dimensional array given. Array must be '\n\u001b[0m\u001b[1;32m    192\u001b[0m                     'two-dimensional' % a.ndim)\n\u001b[1;32m    193\u001b[0m \u001b[0;34m\u001b[0m\u001b[0m\n",
      "\u001b[0;31mLinAlgError\u001b[0m: 1-dimensional array given. Array must be two-dimensional"
     ]
    }
   ],
   "source": [
    "kernel(vec(x), vec(m0 @ vec(x)))"
   ]
  },
  {
   "cell_type": "code",
   "execution_count": 607,
   "id": "24462d57",
   "metadata": {},
   "outputs": [
    {
     "data": {
      "text/plain": [
       "array([[0.37, 0.29, 0.53],\n",
       "       [-0.97, -0.67, -0.42],\n",
       "       [0.09, -0.35, 0.36]])"
      ]
     },
     "execution_count": 607,
     "metadata": {},
     "output_type": "execute_result"
    }
   ],
   "source": [
    "x"
   ]
  },
  {
   "cell_type": "code",
   "execution_count": 608,
   "id": "00d740fc",
   "metadata": {},
   "outputs": [
    {
     "data": {
      "text/plain": [
       "array([[0.04],\n",
       "       [0.27],\n",
       "       [-1.18],\n",
       "       [-0.84]])"
      ]
     },
     "execution_count": 608,
     "metadata": {},
     "output_type": "execute_result"
    }
   ],
   "source": [
    "m0 @ vec(x)"
   ]
  },
  {
   "cell_type": "code",
   "execution_count": 565,
   "id": "f19dd7c1",
   "metadata": {},
   "outputs": [
    {
     "data": {
      "text/plain": [
       "(9, 1)"
      ]
     },
     "execution_count": 565,
     "metadata": {},
     "output_type": "execute_result"
    }
   ],
   "source": [
    "vec(x).shape"
   ]
  },
  {
   "cell_type": "code",
   "execution_count": 571,
   "id": "749c3b93",
   "metadata": {},
   "outputs": [
    {
     "data": {
      "text/plain": [
       "(4, 9)"
      ]
     },
     "execution_count": 571,
     "metadata": {},
     "output_type": "execute_result"
    }
   ],
   "source": [
    "m0.shape"
   ]
  },
  {
   "cell_type": "code",
   "execution_count": null,
   "id": "42344530",
   "metadata": {},
   "outputs": [],
   "source": []
  }
 ],
 "metadata": {
  "kernelspec": {
   "display_name": "Python 3",
   "language": "python",
   "name": "python3"
  },
  "language_info": {
   "codemirror_mode": {
    "name": "ipython",
    "version": 3
   },
   "file_extension": ".py",
   "mimetype": "text/x-python",
   "name": "python",
   "nbconvert_exporter": "python",
   "pygments_lexer": "ipython3",
   "version": "3.9.6"
  }
 },
 "nbformat": 4,
 "nbformat_minor": 5
}
