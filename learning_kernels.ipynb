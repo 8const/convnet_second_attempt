{
 "cells": [
  {
   "cell_type": "markdown",
   "id": "48c0e967",
   "metadata": {},
   "source": [
    "# The goal is to create 2  functions:\n",
    "\n",
    "# 1. Maps convolution to dot product.\n",
    "# 2. Maps dot product to convolution.\n",
    "\n",
    "All notation is consistent with the dpf.\n",
    "It's quite essential for understanding what's going on here so please read it."
   ]
  },
  {
   "cell_type": "code",
   "execution_count": 318,
   "id": "744eadff",
   "metadata": {},
   "outputs": [],
   "source": [
    "import numpy as np\n",
    "from matplotlib.pyplot import imshow, figure\n",
    "from matplotlib.pyplot import plot\n",
    "from matplotlib.pyplot import show\n",
    "\n",
    "np.set_printoptions(suppress=True,\n",
    "   formatter={'float_kind':'{:0.2f}'.format})\n"
   ]
  },
  {
   "cell_type": "code",
   "execution_count": 2,
   "id": "c3320754",
   "metadata": {},
   "outputs": [],
   "source": [
    "# essential functions\n",
    "\n",
    "pixel = lambda local, kernel: (local * kernel).sum()\n",
    "get_local = lambda image, i, j: image[i:i+5, j:j+5]\n",
    "\n",
    "def conv(kernel, img):\n",
    "    result = np.zeros_like(img)[4:, 4:]\n",
    "    for i in range(0, result.shape[0]):\n",
    "        for j in range(0, result.shape[1]):\n",
    "            p =  pixel(get_local(img, i, j), kernel)\n",
    "            result[i,j] = p\n",
    "    return result\n",
    "\n",
    "def dot(M, x):\n",
    "    return M @ x"
   ]
  },
  {
   "cell_type": "code",
   "execution_count": 9,
   "id": "c2605dcd",
   "metadata": {},
   "outputs": [],
   "source": [
    "#useful stuff\n",
    "def sqr(v):\n",
    "    s = int(np.sqrt(v.shape[0] * v.shape[1]))\n",
    "    return v.reshape((s,s))\n",
    "\n",
    "def vec(m):\n",
    "    return m.reshape(-1,1)\n",
    "\n",
    "# this part is perhaps easier to understand \n",
    "# if you derive it yourself rather than read my solution\n",
    "def fst_non_zero(x):\n",
    "    assert x.shape[1] == 1\n",
    "    j = 0\n",
    "    for row in x:\n",
    "        if row[0] != 0:\n",
    "            return j\n",
    "        j +=1\n",
    "        \n",
    "def row(x, summ):\n",
    "    r =  np.zeros((1, x.shape[0]))\n",
    "    j = fst_non_zero(x)\n",
    "    r[0][j] = summ / x[j]\n",
    "    return r"
   ]
  },
  {
   "cell_type": "code",
   "execution_count": 4,
   "id": "c59e0852",
   "metadata": {},
   "outputs": [],
   "source": [
    "# matrix for a dot product equivalent to convlution with input imput sq(x) and output sq(y)\n",
    "def matrix(x, y):\n",
    "    return np.array([row(x,yy)[0] for yy in y])"
   ]
  },
  {
   "cell_type": "markdown",
   "id": "89f49a17",
   "metadata": {},
   "source": [
    "# 1. Let's test if the matrix function works."
   ]
  },
  {
   "cell_type": "code",
   "execution_count": 5,
   "id": "54e840fb",
   "metadata": {},
   "outputs": [],
   "source": [
    "X = np.load(\"/home/const/convnet/X_test.npy\").astype(\"float64\")"
   ]
  },
  {
   "cell_type": "code",
   "execution_count": 6,
   "id": "0f9589b6",
   "metadata": {},
   "outputs": [
    {
     "data": {
      "text/plain": [
       "<matplotlib.image.AxesImage at 0x7fb71dad5e20>"
      ]
     },
     "execution_count": 6,
     "metadata": {},
     "output_type": "execute_result"
    },
    {
     "data": {
      "image/png": "[encoded data removed]",
      "text/plain": [
       "<Figure size 432x288 with 1 Axes>"
      ]
     },
     "metadata": {
      "needs_background": "light"
     },
     "output_type": "display_data"
    }
   ],
   "source": [
    "imshow(X[5])"
   ]
  },
  {
   "cell_type": "code",
   "execution_count": 131,
   "id": "becbadb2",
   "metadata": {},
   "outputs": [],
   "source": [
    "x = vec(X[5])"
   ]
  },
  {
   "cell_type": "code",
   "execution_count": 23,
   "id": "d41a1ec5",
   "metadata": {
    "scrolled": true
   },
   "outputs": [],
   "source": [
    "# we have a kernel K\n",
    "K = np.random.uniform(-2,2, (5,5))\n",
    "\n",
    "# we want an equivalent matrix M\n",
    "y = vec(conv(K, sqr(x)))\n",
    "M = matrix(x, y)"
   ]
  },
  {
   "cell_type": "code",
   "execution_count": 24,
   "id": "f69c8d01",
   "metadata": {},
   "outputs": [
    {
     "data": {
      "text/plain": [
       "<matplotlib.image.AxesImage at 0x7fb71d73a2b0>"
      ]
     },
     "execution_count": 24,
     "metadata": {},
     "output_type": "execute_result"
    },
    {
     "data": {
      "image/png": "[encoded data removed]",
      "text/plain": [
       "<Figure size 432x288 with 1 Axes>"
      ]
     },
     "metadata": {
      "needs_background": "light"
     },
     "output_type": "display_data"
    }
   ],
   "source": [
    "imshow(conv(K, sqr(x)))"
   ]
  },
  {
   "cell_type": "code",
   "execution_count": 25,
   "id": "e639f486",
   "metadata": {
    "scrolled": true
   },
   "outputs": [
    {
     "data": {
      "text/plain": [
       "<matplotlib.image.AxesImage at 0x7fb71d70f910>"
      ]
     },
     "execution_count": 25,
     "metadata": {},
     "output_type": "execute_result"
    },
    {
     "data": {
      "image/png": "[encoded data removed]",
      "text/plain": [
       "<Figure size 432x288 with 1 Axes>"
      ]
     },
     "metadata": {
      "needs_background": "light"
     },
     "output_type": "display_data"
    }
   ],
   "source": [
    "imshow(sqr(dot(M, x)))"
   ]
  },
  {
   "cell_type": "code",
   "execution_count": 386,
   "id": "8285b080",
   "metadata": {},
   "outputs": [
    {
     "data": {
      "text/plain": [
       "True"
      ]
     },
     "execution_count": 386,
     "metadata": {},
     "output_type": "execute_result"
    }
   ],
   "source": [
    "np.allclose(conv(K, sqr(x)), sqr(dot(M, x)))"
   ]
  },
  {
   "cell_type": "markdown",
   "id": "cbbb8735",
   "metadata": {
    "scrolled": false
   },
   "source": [
    "  # $sqr(dot(M, x)) = conv(K, sqr(x))$"
   ]
  },
  {
   "cell_type": "markdown",
   "id": "1edf4f29",
   "metadata": {},
   "source": [
    "\n",
    "# So we've got the conv to dot part: $K   ->   M$"
   ]
  },
  {
   "cell_type": "code",
   "execution_count": 14,
   "id": "99b1243d",
   "metadata": {},
   "outputs": [
    {
     "data": {
      "text/plain": [
       "<matplotlib.image.AxesImage at 0x7fb71d89e1c0>"
      ]
     },
     "execution_count": 14,
     "metadata": {},
     "output_type": "execute_result"
    },
    {
     "data": {
      "image/png": "[encoded data removed]",
      "text/plain": [
       "<Figure size 432x288 with 1 Axes>"
      ]
     },
     "metadata": {
      "needs_background": "light"
     },
     "output_type": "display_data"
    }
   ],
   "source": [
    "# Let's redefine parameters\n",
    "#x = vec(X[35])\n",
    "imshow(X[35])"
   ]
  },
  {
   "cell_type": "code",
   "execution_count": 33,
   "id": "34fbca46",
   "metadata": {},
   "outputs": [],
   "source": [
    "# now M is known and we want K\n",
    "# new M is close to the old one though\n",
    "#M += np.random.uniform(-0.02, 0.02, (576, 784))\n",
    "M += M*0.1\n",
    "y = dot(M, x)"
   ]
  },
  {
   "cell_type": "code",
   "execution_count": 34,
   "id": "713931a7",
   "metadata": {},
   "outputs": [],
   "source": [
    "s = sqr(x)\n",
    "z = sqr(y)"
   ]
  },
  {
   "cell_type": "code",
   "execution_count": 35,
   "id": "8376f38b",
   "metadata": {},
   "outputs": [
    {
     "data": {
      "text/plain": [
       "(576, 25)"
      ]
     },
     "execution_count": 35,
     "metadata": {},
     "output_type": "execute_result"
    }
   ],
   "source": [
    "lambdas = []\n",
    "for i in range(24):\n",
    "    for j in range(24):\n",
    "        lambdas.append(get_local(s, i, j).reshape(1,-1)[0])\n",
    "        \n",
    "lambdas = np.array(lambdas)\n",
    "lambdas.shape"
   ]
  },
  {
   "cell_type": "code",
   "execution_count": 36,
   "id": "1fa3059d",
   "metadata": {},
   "outputs": [],
   "source": [
    "K = sqr(np.linalg.lstsq(lambdas, y ,rcond=0)[0])"
   ]
  },
  {
   "cell_type": "code",
   "execution_count": null,
   "id": "48e651af",
   "metadata": {},
   "outputs": [],
   "source": []
  },
  {
   "cell_type": "code",
   "execution_count": 37,
   "id": "d6da06a9",
   "metadata": {
    "scrolled": true
   },
   "outputs": [
    {
     "data": {
      "text/plain": [
       "<matplotlib.image.AxesImage at 0x7fb71d627c10>"
      ]
     },
     "execution_count": 37,
     "metadata": {},
     "output_type": "execute_result"
    },
    {
     "data": {
      "image/png": "[encoded data removed]",
      "text/plain": [
       "<Figure size 432x288 with 1 Axes>"
      ]
     },
     "metadata": {
      "needs_background": "light"
     },
     "output_type": "display_data"
    }
   ],
   "source": [
    "imshow(sqr(dot(M, x)))"
   ]
  },
  {
   "cell_type": "code",
   "execution_count": 38,
   "id": "c14fad53",
   "metadata": {
    "scrolled": true
   },
   "outputs": [
    {
     "data": {
      "text/plain": [
       "<matplotlib.image.AxesImage at 0x7fb71d5831f0>"
      ]
     },
     "execution_count": 38,
     "metadata": {},
     "output_type": "execute_result"
    },
    {
     "data": {
      "image/png": "[encoded data removed]",
      "text/plain": [
       "<Figure size 432x288 with 1 Axes>"
      ]
     },
     "metadata": {
      "needs_background": "light"
     },
     "output_type": "display_data"
    }
   ],
   "source": [
    "imshow(conv(K, sqr(x)))"
   ]
  },
  {
   "cell_type": "code",
   "execution_count": 39,
   "id": "1e265dd9",
   "metadata": {},
   "outputs": [
    {
     "data": {
      "text/plain": [
       "True"
      ]
     },
     "execution_count": 39,
     "metadata": {},
     "output_type": "execute_result"
    }
   ],
   "source": [
    "np.allclose(conv(K, sqr(x)), sqr(dot(M, x)))"
   ]
  },
  {
   "cell_type": "code",
   "execution_count": null,
   "id": "b54fb4a3",
   "metadata": {},
   "outputs": [],
   "source": []
  },
  {
   "cell_type": "markdown",
   "id": "643bdb66",
   "metadata": {},
   "source": [
    "# $sqr(dot(M, x)) = conv(K, sqr(x))$\n",
    "# Of course not all M have an equivalent K.\n",
    "# I have an intuition that all the Ms we get from grad desc do have a K though.\n",
    "# So hopefully we've got the dot to conv part: $M   -> K$\n",
    "# Let's write a function for it:"
   ]
  },
  {
   "cell_type": "code",
   "execution_count": 319,
   "id": "a27d2122",
   "metadata": {},
   "outputs": [],
   "source": [
    "def kernel(x, y):\n",
    "    s = sqr(x)\n",
    "    z = sqr(y)\n",
    "    lambdas = []\n",
    "    for i in range(24):\n",
    "        for j in range(24):\n",
    "            lambdas.append(get_local(s, i, j).reshape(1,-1)[0])\n",
    "\n",
    "    lambdas = np.array(lambdas)\n",
    "    K = sqr(np.linalg.lstsq(lambdas, y ,rcond=0)[0])\n",
    "    return np.round(K, 2)"
   ]
  },
  {
   "cell_type": "code",
   "execution_count": 320,
   "id": "fb587557",
   "metadata": {
    "scrolled": true
   },
   "outputs": [
    {
     "data": {
      "text/plain": [
       "<matplotlib.image.AxesImage at 0x7fb70ea60790>"
      ]
     },
     "execution_count": 320,
     "metadata": {},
     "output_type": "execute_result"
    },
    {
     "data": {
      "image/png": "[encoded data removed]",
      "text/plain": [
       "<Figure size 432x288 with 1 Axes>"
      ]
     },
     "metadata": {
      "needs_background": "light"
     },
     "output_type": "display_data"
    }
   ],
   "source": [
    "imshow(kernel(x, y))"
   ]
  },
  {
   "cell_type": "markdown",
   "id": "ff1ff19a",
   "metadata": {},
   "source": [
    "# Let's try to learn an identity kernel from a random one.\n",
    "https://karpathy.github.io/2019/04/25/recipe/\n",
    "# Karpathy thinks if it overfits on one example it has to be not too bad."
   ]
  },
  {
   "cell_type": "code",
   "execution_count": 128,
   "id": "6d3f3fc8",
   "metadata": {},
   "outputs": [
    {
     "data": {
      "text/plain": [
       "<matplotlib.image.AxesImage at 0x7fb70fe4b520>"
      ]
     },
     "execution_count": 128,
     "metadata": {},
     "output_type": "execute_result"
    },
    {
     "data": {
      "image/png": "[encoded data removed]",
      "text/plain": [
       "<Figure size 432x288 with 1 Axes>"
      ]
     },
     "metadata": {
      "needs_background": "light"
     },
     "output_type": "display_data"
    }
   ],
   "source": [
    "imshow(sqr(x))"
   ]
  },
  {
   "cell_type": "code",
   "execution_count": 53,
   "id": "bebd8d00",
   "metadata": {},
   "outputs": [],
   "source": []
  },
  {
   "cell_type": "code",
   "execution_count": 132,
   "id": "adaf2cf2",
   "metadata": {},
   "outputs": [
    {
     "data": {
      "text/plain": [
       "<matplotlib.image.AxesImage at 0x7fb70f831eb0>"
      ]
     },
     "execution_count": 132,
     "metadata": {},
     "output_type": "execute_result"
    },
    {
     "data": {
      "image/png": "[encoded data removed]",
      "text/plain": [
       "<Figure size 432x288 with 1 Axes>"
      ]
     },
     "metadata": {
      "needs_background": "light"
     },
     "output_type": "display_data"
    }
   ],
   "source": [
    "\n",
    "imshow(ran_k)"
   ]
  },
  {
   "cell_type": "code",
   "execution_count": null,
   "id": "869205a4",
   "metadata": {},
   "outputs": [],
   "source": []
  },
  {
   "cell_type": "code",
   "execution_count": 104,
   "id": "6fba67dd",
   "metadata": {},
   "outputs": [],
   "source": [
    "# generating a \"dataset\" of one example repeated a lot of times\n",
    "\n",
    "data = [(x, y_hat) for _ in range(100)]\n"
   ]
  },
  {
   "cell_type": "code",
   "execution_count": 105,
   "id": "0f489695",
   "metadata": {},
   "outputs": [],
   "source": [
    "# one forward pass\n",
    "\n",
    "y = vec(conv(ran_k, sqr(x)))"
   ]
  },
  {
   "cell_type": "code",
   "execution_count": null,
   "id": "7ab29b37",
   "metadata": {},
   "outputs": [],
   "source": []
  },
  {
   "cell_type": "code",
   "execution_count": 106,
   "id": "6b9c6a68",
   "metadata": {},
   "outputs": [],
   "source": [
    "m = matrix(x, y)"
   ]
  },
  {
   "cell_type": "code",
   "execution_count": 107,
   "id": "acd1b527",
   "metadata": {},
   "outputs": [],
   "source": [
    "# in terms of dot product\n",
    "\n",
    "yy = m @ x"
   ]
  },
  {
   "cell_type": "code",
   "execution_count": 108,
   "id": "33779bb0",
   "metadata": {},
   "outputs": [
    {
     "data": {
      "text/plain": [
       "True"
      ]
     },
     "execution_count": 108,
     "metadata": {},
     "output_type": "execute_result"
    }
   ],
   "source": [
    "np.allclose(y, yy)"
   ]
  },
  {
   "cell_type": "code",
   "execution_count": null,
   "id": "f6f712c0",
   "metadata": {},
   "outputs": [],
   "source": []
  },
  {
   "cell_type": "code",
   "execution_count": 158,
   "id": "82b8fd8d",
   "metadata": {},
   "outputs": [],
   "source": [
    "def loss(p, q):\n",
    "    return ((((p - q)**2).sum()) / p.shape[0])"
   ]
  },
  {
   "cell_type": "code",
   "execution_count": 302,
   "id": "57a69602",
   "metadata": {},
   "outputs": [
    {
     "data": {
      "text/plain": [
       "0.003472222222222222"
      ]
     },
     "execution_count": 302,
     "metadata": {},
     "output_type": "execute_result"
    }
   ],
   "source": [
    "2/576"
   ]
  },
  {
   "cell_type": "markdown",
   "id": "59f7e8a6",
   "metadata": {},
   "source": [
    "# IT FUCKING WORKS!"
   ]
  },
  {
   "cell_type": "code",
   "execution_count": 316,
   "id": "73fad69f",
   "metadata": {
    "scrolled": false
   },
   "outputs": [
    {
     "data": {
      "image/png": "[encoded data removed]",
      "text/plain": [
       "<Figure size 432x288 with 1 Axes>"
      ]
     },
     "metadata": {
      "needs_background": "light"
     },
     "output_type": "display_data"
    },
    {
     "name": "stdout",
     "output_type": "stream",
     "text": [
      "1510518.798611111\n",
      "3664.7360573813867\n",
      "3776.2969965277784\n",
      "9.161840143453437\n",
      "8.78977307241051e-30\n",
      "0.0\n",
      "8.78977307241051e-30\n",
      "0.0\n",
      "8.78977307241051e-30\n",
      "0.0\n",
      "8.78977307241051e-30\n",
      "0.0\n",
      "8.78977307241051e-30\n",
      "0.0\n",
      "8.78977307241051e-30\n",
      "0.0\n",
      "8.78977307241051e-30\n",
      "0.0\n",
      "8.78977307241051e-30\n",
      "0.0\n"
     ]
    },
    {
     "data": {
      "image/png": "[encoded data removed]",
      "text/plain": [
       "<Figure size 432x288 with 1 Axes>"
      ]
     },
     "metadata": {
      "needs_background": "light"
     },
     "output_type": "display_data"
    }
   ],
   "source": [
    "# x ->  m @ x = l -> loss(y_hat, l)\n",
    "\n",
    "\n",
    "x = vec(X[5])\n",
    "\n",
    "\n",
    "\n",
    "identity_kernel = np.zeros((5,5))\n",
    "identity_kernel[0,0] = 1\n",
    "\n",
    "\n",
    "\n",
    "imshow(identity_kernel)\n",
    "show()\n",
    "y_hat = vec(conv(identity_kernel, sqr(x)))\n",
    "\n",
    "ran_k = np.ones((5,5))  #np.random.uniform(-1,1, (5,5))\n",
    "\n",
    "\n",
    "\n",
    "for i in range(10):\n",
    "\n",
    "    y = vec(conv(ran_k, sqr(x)))\n",
    "    m = matrix(x, y)\n",
    "    l = m @ x\n",
    "\n",
    "    dloss_dl = 0.003472222222222222 * (l - y_hat)\n",
    "    dl_dm = x\n",
    "    \n",
    "    dloss_dm = dloss_dl @ dl_dm.T\n",
    "    print(loss(y_hat, l))\n",
    "\n",
    "    m = m - 0.0001 * dloss_dm\n",
    "    \n",
    "    l = m @ x\n",
    "    print(loss(y_hat, l))\n",
    "\n",
    "    ran_k = kernel(x, l)\n",
    "    \n",
    "\n",
    "imshow(ran_k)\n",
    "show()"
   ]
  },
  {
   "cell_type": "code",
   "execution_count": 323,
   "id": "9fec7696",
   "metadata": {},
   "outputs": [
    {
     "data": {
      "image/png": "[encoded data removed]",
      "text/plain": [
       "<Figure size 432x288 with 1 Axes>"
      ]
     },
     "metadata": {
      "needs_background": "light"
     },
     "output_type": "display_data"
    },
    {
     "name": "stdout",
     "output_type": "stream",
     "text": [
      "2276699.265625\n",
      "5523.600168512508\n",
      "5691.748164062507\n",
      "13.809000421281231\n",
      "4.388786631944407\n",
      "0.010647828172036173\n",
      "5.469463000536002e-28\n",
      "0.0\n",
      "5.469463000536002e-28\n",
      "0.0\n"
     ]
    },
    {
     "data": {
      "image/png": "[encoded data removed]",
      "text/plain": [
       "<Figure size 432x288 with 1 Axes>"
      ]
     },
     "metadata": {
      "needs_background": "light"
     },
     "output_type": "display_data"
    }
   ],
   "source": [
    "\n",
    "sobel_feldman_kernel  = np.array([[1, 0, 0, 0,-1],\n",
    "                                  [2, 0, 0, 0,-2],\n",
    "                                  [2, 1, 0,-1,-2],\n",
    "                                  [2, 0, 0, 0,-2],\n",
    "                                  [1, 0, 0, 0,-1]])\n",
    "\n",
    "\n",
    "imshow(sobel_feldman_kernel)\n",
    "show()\n",
    "y_hat = vec(conv(sobel_feldman_kernel, sqr(x)))\n",
    "\n",
    "ran_k = np.ones((5,5))  #np.random.uniform(-1,1, (5,5))\n",
    "\n",
    "\n",
    "\n",
    "for i in range(5):\n",
    "\n",
    "    y = vec(conv(ran_k, sqr(x)))\n",
    "    m = matrix(x, y)\n",
    "    l = m @ x\n",
    "\n",
    "    dloss_dl = 0.003472222222222222 * (l - y_hat)\n",
    "    dl_dm = x\n",
    "    \n",
    "    dloss_dm = dloss_dl @ dl_dm.T\n",
    "    print(loss(y_hat, l))\n",
    "\n",
    "    m = m - 0.0001 * dloss_dm\n",
    "    \n",
    "    l = m @ x\n",
    "    print(loss(y_hat, l))\n",
    "\n",
    "    ran_k = kernel(x, l)\n",
    "    \n",
    "\n",
    "imshow(ran_k)\n",
    "show()"
   ]
  },
  {
   "cell_type": "markdown",
   "id": "1e095d14",
   "metadata": {},
   "source": [
    "# FUCK YEAH \n",
    "# IT CAN LEARN FUKING ANYTHING!!!"
   ]
  },
  {
   "cell_type": "code",
   "execution_count": null,
   "id": "373e10fc",
   "metadata": {},
   "outputs": [],
   "source": []
  }
 ],
 "metadata": {
  "kernelspec": {
   "display_name": "Python 3",
   "language": "python",
   "name": "python3"
  },
  "language_info": {
   "codemirror_mode": {
    "name": "ipython",
    "version": 3
   },
   "file_extension": ".py",
   "mimetype": "text/x-python",
   "name": "python",
   "nbconvert_exporter": "python",
   "pygments_lexer": "ipython3",
   "version": "3.9.6"
  }
 },
 "nbformat": 4,
 "nbformat_minor": 5
}
