{
 "cells": [
  {
   "cell_type": "markdown",
   "id": "48c0e967",
   "metadata": {},
   "source": [
    "# The goal is to create 2  functions:\n",
    "\n",
    "# 1. Maps convolution to dot product.\n",
    "# 2. Maps dot product to convolution.\n",
    "\n",
    "All notation is consistent with the dpf.\n",
    "It's quite essential for understanding what's going on here so please read it."
   ]
  },
  {
   "cell_type": "code",
   "execution_count": 1,
   "id": "744eadff",
   "metadata": {},
   "outputs": [
    {
     "data": {
      "text/plain": [
       "{'divide': 'warn', 'over': 'warn', 'under': 'ignore', 'invalid': 'warn'}"
      ]
     },
     "execution_count": 1,
     "metadata": {},
     "output_type": "execute_result"
    }
   ],
   "source": [
    "import numpy as np\n",
    "from matplotlib.pyplot import imshow, figure\n",
    "from matplotlib.pyplot import plot\n",
    "from matplotlib.pyplot import show\n",
    "\n",
    "np.set_printoptions(suppress=True,\n",
    "   formatter={'float_kind':'{:0.2f}'.format})\n",
    "\n",
    "\n",
    "np.seterr(all='raise')"
   ]
  },
  {
   "cell_type": "markdown",
   "id": "97840668",
   "metadata": {},
   "source": [
    "# Check the pdf from the repo to get the notation and generally what's going on. \n",
    "\n",
    "A helpful blogpost: https://www.johndcook.com/blog/tag/category-theory/"
   ]
  },
  {
   "cell_type": "code",
   "execution_count": 2,
   "id": "c3320754",
   "metadata": {},
   "outputs": [],
   "source": [
    "# essential functions\n",
    "\n",
    "pixel = lambda local, kernel: (local * kernel).sum()\n",
    "get_local = lambda image, i, j: image[i:i+5, j:j+5]\n",
    "\n",
    "def conv(kernel, img):\n",
    "    result = np.zeros_like(img)[4:, 4:]\n",
    "    for i in range(0, result.shape[0]):\n",
    "        for j in range(0, result.shape[1]):\n",
    "            p =  pixel(get_local(img, i, j), kernel)\n",
    "            result[i,j] = p\n",
    "    return result\n",
    "\n",
    "def dot(M, x):\n",
    "    return M @ x"
   ]
  },
  {
   "cell_type": "code",
   "execution_count": 3,
   "id": "c2605dcd",
   "metadata": {},
   "outputs": [],
   "source": [
    "#useful stuff\n",
    "def sqr(v):\n",
    "    s = int(np.sqrt(v.shape[0] * v.shape[1]))\n",
    "    return v.reshape((s,s))\n",
    "\n",
    "def vec(m):\n",
    "    return m.reshape(-1,1)\n",
    "\n",
    "# this part is perhaps easier to understand \n",
    "# if you derive it yourself rather than read my solution\n",
    "def fst_non_zero(x):\n",
    "    assert x.shape[1] == 1\n",
    "    j = 0\n",
    "    for row in x:\n",
    "        if row[0] != 0:\n",
    "            return j\n",
    "        j +=1\n",
    "        \n",
    "def row(x, summ):\n",
    "    r =  np.zeros((1, x.shape[0]))\n",
    "    j = fst_non_zero(x)\n",
    "    r[0][j] = summ / x[j]\n",
    "    return r"
   ]
  },
  {
   "cell_type": "code",
   "execution_count": 4,
   "id": "c59e0852",
   "metadata": {},
   "outputs": [],
   "source": [
    "# matrix for a dot product equivalent to convlution with input imput sq(x) and output sq(y)\n",
    "def matrix(x, y):\n",
    "    return np.array([row(x,yy)[0] for yy in y])"
   ]
  },
  {
   "cell_type": "markdown",
   "id": "89f49a17",
   "metadata": {},
   "source": [
    "# 1. Let's test if the matrix function works."
   ]
  },
  {
   "cell_type": "code",
   "execution_count": 5,
   "id": "54e840fb",
   "metadata": {},
   "outputs": [],
   "source": [
    "X = np.load(\"/home/const/convnet/X_test.npy\").astype(\"float32\")"
   ]
  },
  {
   "cell_type": "code",
   "execution_count": 6,
   "id": "0f9589b6",
   "metadata": {},
   "outputs": [
    {
     "data": {
      "text/plain": [
       "<matplotlib.image.AxesImage at 0x7f12887e1790>"
      ]
     },
     "execution_count": 6,
     "metadata": {},
     "output_type": "execute_result"
    },
    {
     "data": {
      "image/png": "[encoded data removed]",
      "text/plain": [
       "<Figure size 432x288 with 1 Axes>"
      ]
     },
     "metadata": {
      "needs_background": "light"
     },
     "output_type": "display_data"
    }
   ],
   "source": [
    "imshow(X[5])"
   ]
  },
  {
   "cell_type": "code",
   "execution_count": 7,
   "id": "becbadb2",
   "metadata": {},
   "outputs": [],
   "source": [
    "x = vec(X[5])"
   ]
  },
  {
   "cell_type": "code",
   "execution_count": 8,
   "id": "d41a1ec5",
   "metadata": {
    "scrolled": true
   },
   "outputs": [],
   "source": [
    "# we have a kernel K\n",
    "K = np.random.uniform(-2,2, (5,5))\n",
    "\n",
    "# we want an equivalent matrix M\n",
    "y = vec(conv(K, sqr(x)))\n",
    "M = matrix(x, y)"
   ]
  },
  {
   "cell_type": "code",
   "execution_count": 9,
   "id": "f69c8d01",
   "metadata": {},
   "outputs": [
    {
     "data": {
      "text/plain": [
       "<matplotlib.image.AxesImage at 0x7f12886d4fa0>"
      ]
     },
     "execution_count": 9,
     "metadata": {},
     "output_type": "execute_result"
    },
    {
     "data": {
      "image/png": "[encoded data removed]",
      "text/plain": [
       "<Figure size 432x288 with 1 Axes>"
      ]
     },
     "metadata": {
      "needs_background": "light"
     },
     "output_type": "display_data"
    }
   ],
   "source": [
    "imshow(conv(K, sqr(x)))"
   ]
  },
  {
   "cell_type": "code",
   "execution_count": 10,
   "id": "e639f486",
   "metadata": {
    "scrolled": true
   },
   "outputs": [
    {
     "data": {
      "text/plain": [
       "<matplotlib.image.AxesImage at 0x7f1288647160>"
      ]
     },
     "execution_count": 10,
     "metadata": {},
     "output_type": "execute_result"
    },
    {
     "data": {
      "image/png": "[encoded data removed]",
      "text/plain": [
       "<Figure size 432x288 with 1 Axes>"
      ]
     },
     "metadata": {
      "needs_background": "light"
     },
     "output_type": "display_data"
    }
   ],
   "source": [
    "imshow(sqr(dot(M, x)))"
   ]
  },
  {
   "cell_type": "code",
   "execution_count": 11,
   "id": "8285b080",
   "metadata": {},
   "outputs": [
    {
     "data": {
      "text/plain": [
       "True"
      ]
     },
     "execution_count": 11,
     "metadata": {},
     "output_type": "execute_result"
    }
   ],
   "source": [
    "np.allclose(conv(K, sqr(x)), sqr(dot(M, x)))"
   ]
  },
  {
   "cell_type": "markdown",
   "id": "cbbb8735",
   "metadata": {
    "scrolled": false
   },
   "source": [
    "  # $sqr(dot(M, x)) = conv(K, sqr(x))$"
   ]
  },
  {
   "cell_type": "markdown",
   "id": "1edf4f29",
   "metadata": {},
   "source": [
    "\n",
    "# So we've got the conv to dot part: $K   ->   M$"
   ]
  },
  {
   "cell_type": "code",
   "execution_count": 12,
   "id": "99b1243d",
   "metadata": {},
   "outputs": [
    {
     "data": {
      "text/plain": [
       "<matplotlib.image.AxesImage at 0x7f128862b0a0>"
      ]
     },
     "execution_count": 12,
     "metadata": {},
     "output_type": "execute_result"
    },
    {
     "data": {
      "image/png": "[encoded data removed]",
      "text/plain": [
       "<Figure size 432x288 with 1 Axes>"
      ]
     },
     "metadata": {
      "needs_background": "light"
     },
     "output_type": "display_data"
    }
   ],
   "source": [
    "# Let's redefine parameters\n",
    "#x = vec(X[35])\n",
    "imshow(X[35])"
   ]
  },
  {
   "cell_type": "code",
   "execution_count": 13,
   "id": "34fbca46",
   "metadata": {},
   "outputs": [],
   "source": [
    "# now M is known and we want K\n",
    "# new M is close to the old one though\n",
    "#M += np.random.uniform(-0.02, 0.02, (576, 784))\n",
    "M += M*0.1\n",
    "y = dot(M, x)"
   ]
  },
  {
   "cell_type": "code",
   "execution_count": 14,
   "id": "713931a7",
   "metadata": {},
   "outputs": [],
   "source": [
    "s = sqr(x)\n",
    "z = sqr(y)"
   ]
  },
  {
   "cell_type": "code",
   "execution_count": 15,
   "id": "8376f38b",
   "metadata": {},
   "outputs": [
    {
     "data": {
      "text/plain": [
       "(576, 25)"
      ]
     },
     "execution_count": 15,
     "metadata": {},
     "output_type": "execute_result"
    }
   ],
   "source": [
    "lambdas = []\n",
    "for i in range(24):\n",
    "    for j in range(24):\n",
    "        lambdas.append(get_local(s, i, j).reshape(1,-1)[0])\n",
    "        \n",
    "lambdas = np.array(lambdas)\n",
    "lambdas.shape"
   ]
  },
  {
   "cell_type": "code",
   "execution_count": 16,
   "id": "1fa3059d",
   "metadata": {},
   "outputs": [],
   "source": [
    "K = sqr(np.linalg.lstsq(lambdas, y ,rcond=0)[0])"
   ]
  },
  {
   "cell_type": "code",
   "execution_count": null,
   "id": "48e651af",
   "metadata": {},
   "outputs": [],
   "source": []
  },
  {
   "cell_type": "code",
   "execution_count": 17,
   "id": "d6da06a9",
   "metadata": {
    "scrolled": true
   },
   "outputs": [
    {
     "data": {
      "text/plain": [
       "<matplotlib.image.AxesImage at 0x7f128858e580>"
      ]
     },
     "execution_count": 17,
     "metadata": {},
     "output_type": "execute_result"
    },
    {
     "data": {
      "image/png": "[encoded data removed]",
      "text/plain": [
       "<Figure size 432x288 with 1 Axes>"
      ]
     },
     "metadata": {
      "needs_background": "light"
     },
     "output_type": "display_data"
    }
   ],
   "source": [
    "imshow(sqr(dot(M, x)))"
   ]
  },
  {
   "cell_type": "code",
   "execution_count": 18,
   "id": "c14fad53",
   "metadata": {
    "scrolled": true
   },
   "outputs": [
    {
     "data": {
      "text/plain": [
       "<matplotlib.image.AxesImage at 0x7f12884f30a0>"
      ]
     },
     "execution_count": 18,
     "metadata": {},
     "output_type": "execute_result"
    },
    {
     "data": {
      "image/png": "[encoded data removed]",
      "text/plain": [
       "<Figure size 432x288 with 1 Axes>"
      ]
     },
     "metadata": {
      "needs_background": "light"
     },
     "output_type": "display_data"
    }
   ],
   "source": [
    "imshow(conv(K, sqr(x)))"
   ]
  },
  {
   "cell_type": "code",
   "execution_count": 19,
   "id": "1e265dd9",
   "metadata": {},
   "outputs": [
    {
     "data": {
      "text/plain": [
       "True"
      ]
     },
     "execution_count": 19,
     "metadata": {},
     "output_type": "execute_result"
    }
   ],
   "source": [
    "np.allclose(conv(K, sqr(x)), sqr(dot(M, x)))"
   ]
  },
  {
   "cell_type": "code",
   "execution_count": null,
   "id": "b54fb4a3",
   "metadata": {},
   "outputs": [],
   "source": []
  },
  {
   "cell_type": "markdown",
   "id": "643bdb66",
   "metadata": {},
   "source": [
    "# $sqr(dot(M, x)) = conv(K, sqr(x))$\n",
    "# Of course not all M have an equivalent K.\n",
    "# I have an intuition that all the Ms we get from grad desc do have a K though.\n",
    "# So hopefully we've got the dot to conv part: $M   -> K$\n",
    "# Let's write a function for it:"
   ]
  },
  {
   "cell_type": "code",
   "execution_count": 39,
   "id": "a27d2122",
   "metadata": {},
   "outputs": [],
   "source": [
    "def kernel(x, y):\n",
    "    old_settings = np.seterr(all='warn', over='raise')\n",
    "\n",
    "    s = sqr(x)\n",
    "    z = sqr(y)\n",
    "    lambdas = []\n",
    "    for i in range(24):\n",
    "        for j in range(24):\n",
    "            lambdas.append(get_local(s, i, j).reshape(1,-1)[0])\n",
    "\n",
    "    lambdas = np.array(lambdas)\n",
    "    K = sqr(np.linalg.lstsq(lambdas, y ,rcond=None)[0])\n",
    "    return K"
   ]
  },
  {
   "cell_type": "code",
   "execution_count": 21,
   "id": "fb587557",
   "metadata": {
    "scrolled": true
   },
   "outputs": [
    {
     "data": {
      "text/plain": [
       "<matplotlib.image.AxesImage at 0x7f12884d20a0>"
      ]
     },
     "execution_count": 21,
     "metadata": {},
     "output_type": "execute_result"
    },
    {
     "data": {
      "image/png": "[encoded data removed]",
      "text/plain": [
       "<Figure size 432x288 with 1 Axes>"
      ]
     },
     "metadata": {
      "needs_background": "light"
     },
     "output_type": "display_data"
    }
   ],
   "source": [
    "imshow(kernel(x, y))"
   ]
  },
  {
   "cell_type": "markdown",
   "id": "ff1ff19a",
   "metadata": {},
   "source": [
    "# Let's try to learn an identity kernel from a random one.\n",
    "https://karpathy.github.io/2019/04/25/recipe/\n",
    "# Karpathy thinks if it overfits on one example it has to be not too bad."
   ]
  },
  {
   "cell_type": "code",
   "execution_count": 22,
   "id": "6d3f3fc8",
   "metadata": {},
   "outputs": [
    {
     "data": {
      "text/plain": [
       "<matplotlib.image.AxesImage at 0x7f12884a1c10>"
      ]
     },
     "execution_count": 22,
     "metadata": {},
     "output_type": "execute_result"
    },
    {
     "data": {
      "image/png": "[encoded data removed]",
      "text/plain": [
       "<Figure size 432x288 with 1 Axes>"
      ]
     },
     "metadata": {
      "needs_background": "light"
     },
     "output_type": "display_data"
    }
   ],
   "source": [
    "imshow(sqr(x))"
   ]
  },
  {
   "cell_type": "code",
   "execution_count": 23,
   "id": "82b8fd8d",
   "metadata": {},
   "outputs": [],
   "source": [
    "def loss(p, q):\n",
    "    return ((((p - q)**2).sum()) / p.shape[0])"
   ]
  },
  {
   "cell_type": "code",
   "execution_count": 24,
   "id": "57a69602",
   "metadata": {},
   "outputs": [
    {
     "data": {
      "text/plain": [
       "0.003472222222222222"
      ]
     },
     "execution_count": 24,
     "metadata": {},
     "output_type": "execute_result"
    }
   ],
   "source": [
    "2/576"
   ]
  },
  {
   "cell_type": "markdown",
   "id": "59f7e8a6",
   "metadata": {},
   "source": [
    "# IT FUCKING WORKS!"
   ]
  },
  {
   "cell_type": "code",
   "execution_count": 69,
   "id": "73fad69f",
   "metadata": {
    "scrolled": false
   },
   "outputs": [
    {
     "ename": "KeyboardInterrupt",
     "evalue": "",
     "output_type": "error",
     "traceback": [
      "\u001b[0;31m---------------------------------------------------------------------------\u001b[0m",
      "\u001b[0;31mKeyboardInterrupt\u001b[0m                         Traceback (most recent call last)",
      "\u001b[0;32m<ipython-input-69-a7fc29880c1c>\u001b[0m in \u001b[0;36m<module>\u001b[0;34m\u001b[0m\n\u001b[1;32m     26\u001b[0m \u001b[0;34m\u001b[0m\u001b[0m\n\u001b[1;32m     27\u001b[0m         \u001b[0my\u001b[0m \u001b[0;34m=\u001b[0m \u001b[0mvec\u001b[0m\u001b[0;34m(\u001b[0m\u001b[0mconv\u001b[0m\u001b[0;34m(\u001b[0m\u001b[0mran_k\u001b[0m\u001b[0;34m,\u001b[0m \u001b[0msqr\u001b[0m\u001b[0;34m(\u001b[0m\u001b[0mx\u001b[0m\u001b[0;34m)\u001b[0m\u001b[0;34m)\u001b[0m\u001b[0;34m)\u001b[0m\u001b[0;34m\u001b[0m\u001b[0;34m\u001b[0m\u001b[0m\n\u001b[0;32m---> 28\u001b[0;31m         \u001b[0mm\u001b[0m \u001b[0;34m=\u001b[0m \u001b[0mmatrix\u001b[0m\u001b[0;34m(\u001b[0m\u001b[0mx\u001b[0m\u001b[0;34m,\u001b[0m \u001b[0my\u001b[0m\u001b[0;34m)\u001b[0m\u001b[0;34m\u001b[0m\u001b[0;34m\u001b[0m\u001b[0m\n\u001b[0m\u001b[1;32m     29\u001b[0m         \u001b[0ml\u001b[0m \u001b[0;34m=\u001b[0m \u001b[0mm\u001b[0m \u001b[0;34m@\u001b[0m \u001b[0mx\u001b[0m\u001b[0;34m\u001b[0m\u001b[0;34m\u001b[0m\u001b[0m\n\u001b[1;32m     30\u001b[0m \u001b[0;34m\u001b[0m\u001b[0m\n",
      "\u001b[0;32m<ipython-input-4-79266174f89c>\u001b[0m in \u001b[0;36mmatrix\u001b[0;34m(x, y)\u001b[0m\n\u001b[1;32m      1\u001b[0m \u001b[0;31m# matrix for a dot product equivalent to convlution with input imput sq(x) and output sq(y)\u001b[0m\u001b[0;34m\u001b[0m\u001b[0;34m\u001b[0m\u001b[0;34m\u001b[0m\u001b[0m\n\u001b[1;32m      2\u001b[0m \u001b[0;32mdef\u001b[0m \u001b[0mmatrix\u001b[0m\u001b[0;34m(\u001b[0m\u001b[0mx\u001b[0m\u001b[0;34m,\u001b[0m \u001b[0my\u001b[0m\u001b[0;34m)\u001b[0m\u001b[0;34m:\u001b[0m\u001b[0;34m\u001b[0m\u001b[0;34m\u001b[0m\u001b[0m\n\u001b[0;32m----> 3\u001b[0;31m     \u001b[0;32mreturn\u001b[0m \u001b[0mnp\u001b[0m\u001b[0;34m.\u001b[0m\u001b[0marray\u001b[0m\u001b[0;34m(\u001b[0m\u001b[0;34m[\u001b[0m\u001b[0mrow\u001b[0m\u001b[0;34m(\u001b[0m\u001b[0mx\u001b[0m\u001b[0;34m,\u001b[0m\u001b[0myy\u001b[0m\u001b[0;34m)\u001b[0m\u001b[0;34m[\u001b[0m\u001b[0;36m0\u001b[0m\u001b[0;34m]\u001b[0m \u001b[0;32mfor\u001b[0m \u001b[0myy\u001b[0m \u001b[0;32min\u001b[0m \u001b[0my\u001b[0m\u001b[0;34m]\u001b[0m\u001b[0;34m)\u001b[0m\u001b[0;34m\u001b[0m\u001b[0;34m\u001b[0m\u001b[0m\n\u001b[0m",
      "\u001b[0;32m<ipython-input-4-79266174f89c>\u001b[0m in \u001b[0;36m<listcomp>\u001b[0;34m(.0)\u001b[0m\n\u001b[1;32m      1\u001b[0m \u001b[0;31m# matrix for a dot product equivalent to convlution with input imput sq(x) and output sq(y)\u001b[0m\u001b[0;34m\u001b[0m\u001b[0;34m\u001b[0m\u001b[0;34m\u001b[0m\u001b[0m\n\u001b[1;32m      2\u001b[0m \u001b[0;32mdef\u001b[0m \u001b[0mmatrix\u001b[0m\u001b[0;34m(\u001b[0m\u001b[0mx\u001b[0m\u001b[0;34m,\u001b[0m \u001b[0my\u001b[0m\u001b[0;34m)\u001b[0m\u001b[0;34m:\u001b[0m\u001b[0;34m\u001b[0m\u001b[0;34m\u001b[0m\u001b[0m\n\u001b[0;32m----> 3\u001b[0;31m     \u001b[0;32mreturn\u001b[0m \u001b[0mnp\u001b[0m\u001b[0;34m.\u001b[0m\u001b[0marray\u001b[0m\u001b[0;34m(\u001b[0m\u001b[0;34m[\u001b[0m\u001b[0mrow\u001b[0m\u001b[0;34m(\u001b[0m\u001b[0mx\u001b[0m\u001b[0;34m,\u001b[0m\u001b[0myy\u001b[0m\u001b[0;34m)\u001b[0m\u001b[0;34m[\u001b[0m\u001b[0;36m0\u001b[0m\u001b[0;34m]\u001b[0m \u001b[0;32mfor\u001b[0m \u001b[0myy\u001b[0m \u001b[0;32min\u001b[0m \u001b[0my\u001b[0m\u001b[0;34m]\u001b[0m\u001b[0;34m)\u001b[0m\u001b[0;34m\u001b[0m\u001b[0;34m\u001b[0m\u001b[0m\n\u001b[0m",
      "\u001b[0;32m<ipython-input-3-7677cdc4699c>\u001b[0m in \u001b[0;36mrow\u001b[0;34m(x, summ)\u001b[0m\n\u001b[1;32m     19\u001b[0m \u001b[0;32mdef\u001b[0m \u001b[0mrow\u001b[0m\u001b[0;34m(\u001b[0m\u001b[0mx\u001b[0m\u001b[0;34m,\u001b[0m \u001b[0msumm\u001b[0m\u001b[0;34m)\u001b[0m\u001b[0;34m:\u001b[0m\u001b[0;34m\u001b[0m\u001b[0;34m\u001b[0m\u001b[0m\n\u001b[1;32m     20\u001b[0m     \u001b[0mr\u001b[0m \u001b[0;34m=\u001b[0m  \u001b[0mnp\u001b[0m\u001b[0;34m.\u001b[0m\u001b[0mzeros\u001b[0m\u001b[0;34m(\u001b[0m\u001b[0;34m(\u001b[0m\u001b[0;36m1\u001b[0m\u001b[0;34m,\u001b[0m \u001b[0mx\u001b[0m\u001b[0;34m.\u001b[0m\u001b[0mshape\u001b[0m\u001b[0;34m[\u001b[0m\u001b[0;36m0\u001b[0m\u001b[0;34m]\u001b[0m\u001b[0;34m)\u001b[0m\u001b[0;34m)\u001b[0m\u001b[0;34m\u001b[0m\u001b[0;34m\u001b[0m\u001b[0m\n\u001b[0;32m---> 21\u001b[0;31m     \u001b[0mj\u001b[0m \u001b[0;34m=\u001b[0m \u001b[0mfst_non_zero\u001b[0m\u001b[0;34m(\u001b[0m\u001b[0mx\u001b[0m\u001b[0;34m)\u001b[0m\u001b[0;34m\u001b[0m\u001b[0;34m\u001b[0m\u001b[0m\n\u001b[0m\u001b[1;32m     22\u001b[0m     \u001b[0mr\u001b[0m\u001b[0;34m[\u001b[0m\u001b[0;36m0\u001b[0m\u001b[0;34m]\u001b[0m\u001b[0;34m[\u001b[0m\u001b[0mj\u001b[0m\u001b[0;34m]\u001b[0m \u001b[0;34m=\u001b[0m \u001b[0msumm\u001b[0m \u001b[0;34m/\u001b[0m \u001b[0mx\u001b[0m\u001b[0;34m[\u001b[0m\u001b[0mj\u001b[0m\u001b[0;34m]\u001b[0m\u001b[0;34m\u001b[0m\u001b[0;34m\u001b[0m\u001b[0m\n\u001b[1;32m     23\u001b[0m     \u001b[0;32mreturn\u001b[0m \u001b[0mr\u001b[0m\u001b[0;34m\u001b[0m\u001b[0;34m\u001b[0m\u001b[0m\n",
      "\u001b[0;32m<ipython-input-3-7677cdc4699c>\u001b[0m in \u001b[0;36mfst_non_zero\u001b[0;34m(x)\u001b[0m\n\u001b[1;32m     13\u001b[0m     \u001b[0mj\u001b[0m \u001b[0;34m=\u001b[0m \u001b[0;36m0\u001b[0m\u001b[0;34m\u001b[0m\u001b[0;34m\u001b[0m\u001b[0m\n\u001b[1;32m     14\u001b[0m     \u001b[0;32mfor\u001b[0m \u001b[0mrow\u001b[0m \u001b[0;32min\u001b[0m \u001b[0mx\u001b[0m\u001b[0;34m:\u001b[0m\u001b[0;34m\u001b[0m\u001b[0;34m\u001b[0m\u001b[0m\n\u001b[0;32m---> 15\u001b[0;31m         \u001b[0;32mif\u001b[0m \u001b[0mrow\u001b[0m\u001b[0;34m[\u001b[0m\u001b[0;36m0\u001b[0m\u001b[0;34m]\u001b[0m \u001b[0;34m!=\u001b[0m \u001b[0;36m0\u001b[0m\u001b[0;34m:\u001b[0m\u001b[0;34m\u001b[0m\u001b[0;34m\u001b[0m\u001b[0m\n\u001b[0m\u001b[1;32m     16\u001b[0m             \u001b[0;32mreturn\u001b[0m \u001b[0mj\u001b[0m\u001b[0;34m\u001b[0m\u001b[0;34m\u001b[0m\u001b[0m\n\u001b[1;32m     17\u001b[0m         \u001b[0mj\u001b[0m \u001b[0;34m+=\u001b[0m\u001b[0;36m1\u001b[0m\u001b[0;34m\u001b[0m\u001b[0;34m\u001b[0m\u001b[0m\n",
      "\u001b[0;31mKeyboardInterrupt\u001b[0m: "
     ]
    }
   ],
   "source": [
    "# x ->  m @ x = l -> loss(y_hat, l)\n",
    "\n",
    "for j  in range(50):\n",
    "    \n",
    "    \n",
    "    x = vec(X[j])/2\n",
    "\n",
    "\n",
    "\n",
    "    identity_kernel = np.zeros((5,5))\n",
    "    identity_kernel[0,0] = 1\n",
    "\n",
    "\n",
    "\n",
    " #   imshow(identity_kernel)\n",
    "  #  show()\n",
    "    y_hat = vec(conv(identity_kernel, sqr(x)))\n",
    "\n",
    "    ran_k =  np.ones((5,5))\n",
    "    #np.random.uniform(-1,1, (5,5)) #np.ones((5,5))\n",
    "\n",
    "    first3_loss=[]\n",
    "    last3_loss=[]\n",
    "\n",
    "    for i in range(8):\n",
    "\n",
    "        y = vec(conv(ran_k, sqr(x)))\n",
    "        m = matrix(x, y)\n",
    "        l = m @ x\n",
    "\n",
    "        dloss_dl = 0.003472222222222222 * (l - y_hat)\n",
    "        dl_dm = x\n",
    "\n",
    "        dloss_dm = dloss_dl @ dl_dm.T\n",
    "       # print(loss(y_hat, l))\n",
    "\n",
    "        m = m - 0.0001 * dloss_dm\n",
    "\n",
    "        l = m @ x\n",
    "        #print(loss(y_hat, l))\n",
    "\n",
    "        ran_k = kernel(x, l)\n",
    "        if i in [0,1,2]:\n",
    "            first3_loss.append(loss(y_hat, l))\n",
    "        if i in [5,6,7]:\n",
    "            last3_loss.append(loss(y_hat, l))\n",
    "\n",
    "\n",
    "\n",
    "    #imshow(ran_k)\n",
    "    #show()\n",
    "\n",
    "    if sum(last3_loss) > sum(first3_loss):\n",
    "        raise Exception(j)\n"
   ]
  },
  {
   "cell_type": "code",
   "execution_count": 52,
   "id": "6c14e55b",
   "metadata": {
    "scrolled": true
   },
   "outputs": [
    {
     "data": {
      "text/plain": [
       "[1751587.6334525067, 1173159.9218440847, 785746.6949434051]"
      ]
     },
     "execution_count": 52,
     "metadata": {},
     "output_type": "execute_result"
    }
   ],
   "source": [
    "first3_loss"
   ]
  },
  {
   "cell_type": "code",
   "execution_count": 53,
   "id": "538a2bec",
   "metadata": {},
   "outputs": [
    {
     "data": {
      "text/plain": [
       "3"
      ]
     },
     "execution_count": 53,
     "metadata": {},
     "output_type": "execute_result"
    }
   ],
   "source": [
    "sum([1,2])"
   ]
  },
  {
   "cell_type": "code",
   "execution_count": null,
   "id": "cdd34248",
   "metadata": {},
   "outputs": [],
   "source": []
  },
  {
   "cell_type": "code",
   "execution_count": 68,
   "id": "9fec7696",
   "metadata": {},
   "outputs": [
    {
     "data": {
      "image/png": "[encoded data removed]",
      "text/plain": [
       "<Figure size 432x288 with 1 Axes>"
      ]
     },
     "metadata": {
      "needs_background": "light"
     },
     "output_type": "display_data"
    },
    {
     "name": "stdout",
     "output_type": "stream",
     "text": [
      "4140038.7167565045\n",
      "5901625.273161821\n",
      "5901625.334754151\n",
      "8412767.032189488\n",
      "8412767.08662071\n",
      "11992399.649470434\n",
      "11992399.687626757\n",
      "17095165.99347266\n",
      "17095165.789156515\n",
      "24369159.17279602\n",
      "24369159.13515756\n",
      "34738236.832340874\n",
      "34738236.607379384\n",
      "49519356.97543455\n",
      "49519357.04242974\n",
      "70589844.4498811\n",
      "70589843.87668867\n",
      "100625823.85161665\n",
      "100625823.711802\n",
      "143442113.70456707\n",
      "143442113.16988358\n",
      "204476735.17950624\n",
      "204476734.43990624\n",
      "291481589.0150825\n",
      "291481589.3293936\n",
      "415507011.39225554\n",
      "415507008.27966344\n",
      "592305248.575129\n",
      "592305244.8794892\n",
      "844331138.3681161\n",
      "844331138.7796828\n",
      "1203594055.14051\n"
     ]
    },
    {
     "data": {
      "image/png": "[encoded data removed]",
      "text/plain": [
       "<Figure size 432x288 with 1 Axes>"
      ]
     },
     "metadata": {
      "needs_background": "light"
     },
     "output_type": "display_data"
    }
   ],
   "source": [
    "x = vec(X[1])\n",
    "sobel_feldman_kernel  = np.array([[1, 0, 0, 0,-1],\n",
    "                                  [2, 0, 0, 0,-2],\n",
    "                                  [2, 1, 0,-1,-2],\n",
    "                                  [2, 0, 0, 0,-2],\n",
    "                                  [1, 0, 0, 0,-1]])\n",
    "\n",
    "\n",
    "imshow(sobel_feldman_kernel)\n",
    "show()\n",
    "y_hat = vec(conv(sobel_feldman_kernel, sqr(x)))\n",
    "\n",
    "ran_k = np.ones((5,5))  #np.random.uniform(-1,1, (5,5))\n",
    "\n",
    "\n",
    "\n",
    "for i in range(16):\n",
    "\n",
    "    y = vec(conv(ran_k, sqr(x)))\n",
    "    m = matrix(x, y)\n",
    "    l = m @ x\n",
    "\n",
    "    \n",
    "    dloss_dl = 0.003472222222222222 * (l - y_hat)\n",
    "    dl_dm = x\n",
    "    \n",
    "    dloss_dm = dloss_dl @ dl_dm.T\n",
    "    print(loss(y_hat, l))\n",
    "\n",
    "    m = m - 0.0001 * dloss_dm\n",
    "    \n",
    "    l = m @ x\n",
    "    print(loss(y_hat, l))\n",
    "\n",
    "    ran_k = kernel(x, l)\n",
    "    \n",
    "\n",
    "imshow(ran_k)\n",
    "show()"
   ]
  },
  {
   "cell_type": "code",
   "execution_count": 28,
   "id": "5b81a790",
   "metadata": {
    "scrolled": true
   },
   "outputs": [
    {
     "data": {
      "text/plain": [
       "<matplotlib.image.AxesImage at 0x7f1288314910>"
      ]
     },
     "execution_count": 28,
     "metadata": {},
     "output_type": "execute_result"
    },
    {
     "data": {
      "image/png": "[encoded data removed]",
      "text/plain": [
       "<Figure size 432x288 with 1 Axes>"
      ]
     },
     "metadata": {
      "needs_background": "light"
     },
     "output_type": "display_data"
    }
   ],
   "source": [
    "imshow(conv(identity_kernel, X[36]))"
   ]
  },
  {
   "cell_type": "code",
   "execution_count": 29,
   "id": "28039877",
   "metadata": {},
   "outputs": [
    {
     "data": {
      "text/plain": [
       "<matplotlib.image.AxesImage at 0x7f128827b160>"
      ]
     },
     "execution_count": 29,
     "metadata": {},
     "output_type": "execute_result"
    },
    {
     "data": {
      "image/png": "[encoded data removed]",
      "text/plain": [
       "<Figure size 432x288 with 1 Axes>"
      ]
     },
     "metadata": {
      "needs_background": "light"
     },
     "output_type": "display_data"
    }
   ],
   "source": [
    "imshow(conv(sobel_feldman_kernel, sqr(x)))"
   ]
  },
  {
   "cell_type": "markdown",
   "id": "1e095d14",
   "metadata": {},
   "source": [
    "# FUCK YEAH \n",
    "# IT CAN LEARN FUKING ANYTHING!!!"
   ]
  },
  {
   "cell_type": "code",
   "execution_count": null,
   "id": "c463a0a6",
   "metadata": {},
   "outputs": [],
   "source": []
  },
  {
   "cell_type": "markdown",
   "id": "2ee3a882",
   "metadata": {},
   "source": [
    "# let's check it on 2 different images just because I'm paranoid "
   ]
  },
  {
   "cell_type": "code",
   "execution_count": 30,
   "id": "04ca1d4d",
   "metadata": {},
   "outputs": [],
   "source": [
    "# generating a \"dataset\" of one example repeated a lot of times\n",
    "\n",
    "data = [(x, y_hat) for _ in range(100)]\n"
   ]
  },
  {
   "cell_type": "code",
   "execution_count": 31,
   "id": "25df4b2e",
   "metadata": {},
   "outputs": [
    {
     "data": {
      "text/plain": [
       "<matplotlib.image.AxesImage at 0x7f128824fa30>"
      ]
     },
     "execution_count": 31,
     "metadata": {},
     "output_type": "execute_result"
    },
    {
     "data": {
      "image/png": "[encoded data removed]",
      "text/plain": [
       "<Figure size 432x288 with 1 Axes>"
      ]
     },
     "metadata": {
      "needs_background": "light"
     },
     "output_type": "display_data"
    }
   ],
   "source": [
    "imshow(conv(sobel_feldman_kernel, X[35]))"
   ]
  },
  {
   "cell_type": "code",
   "execution_count": 32,
   "id": "f3a78396",
   "metadata": {},
   "outputs": [
    {
     "data": {
      "text/plain": [
       "array([[0.00, 0.00, 0.00, 0.00, 0.00, 0.00, 0.00, 0.00, 0.00, 0.00, 0.00,\n",
       "        0.00, 0.00, 0.00, 0.00, 0.00, 0.00, 0.00, 0.00, 0.00, 0.00, 0.00,\n",
       "        0.00, 0.00, 0.00, 0.00, 0.00, 0.00],\n",
       "       [0.00, 0.00, 0.00, 0.00, 0.00, 0.00, 0.00, 0.00, 0.00, 0.00, 0.00,\n",
       "        0.00, 0.00, 0.00, 0.00, 0.00, 0.00, 0.00, 0.00, 0.00, 0.00, 0.00,\n",
       "        0.00, 0.00, 0.00, 0.00, 0.00, 0.00],\n",
       "       [0.00, 0.00, 0.00, 0.00, 0.00, 0.00, 0.00, 0.00, 0.00, 0.00, 0.00,\n",
       "        0.00, 0.00, 0.00, 0.00, 0.00, 0.00, 0.00, 0.00, 0.00, 0.00, 0.00,\n",
       "        0.00, 0.00, 0.00, 0.00, 0.00, 0.00],\n",
       "       [0.00, 0.00, 0.00, 0.00, 0.00, 0.00, 0.00, 0.00, 0.00, 0.00, 0.00,\n",
       "        0.00, 0.00, 0.00, 0.00, 0.00, 0.00, 0.00, 0.00, 0.00, 0.00, 0.00,\n",
       "        0.00, 0.00, 0.00, 0.00, 0.00, 0.00],\n",
       "       [0.00, 0.00, 0.00, 0.00, 0.00, 0.00, 0.00, 0.00, 0.00, 0.00, 0.00,\n",
       "        0.00, 0.00, 0.00, 0.00, 0.00, 0.00, 17.00, 47.00, 47.00, 47.00,\n",
       "        16.00, 129.00, 85.00, 47.00, 0.00, 0.00, 0.00],\n",
       "       [0.00, 0.00, 0.00, 0.00, 0.00, 0.00, 0.00, 0.00, 0.00, 0.00, 0.00,\n",
       "        0.00, 0.00, 0.00, 0.00, 75.00, 153.00, 217.00, 253.00, 253.00,\n",
       "        253.00, 215.00, 246.00, 253.00, 253.00, 0.00, 0.00, 0.00],\n",
       "       [0.00, 0.00, 0.00, 0.00, 0.00, 0.00, 0.00, 0.00, 0.00, 0.00, 0.00,\n",
       "        0.00, 35.00, 142.00, 244.00, 252.00, 253.00, 253.00, 253.00,\n",
       "        253.00, 253.00, 253.00, 253.00, 253.00, 253.00, 0.00, 0.00, 0.00],\n",
       "       [0.00, 0.00, 0.00, 0.00, 0.00, 0.00, 0.00, 0.00, 0.00, 0.00, 0.00,\n",
       "        0.00, 63.00, 253.00, 253.00, 253.00, 253.00, 253.00, 253.00,\n",
       "        253.00, 213.00, 170.00, 170.00, 170.00, 170.00, 0.00, 0.00, 0.00],\n",
       "       [0.00, 0.00, 0.00, 0.00, 0.00, 0.00, 0.00, 0.00, 20.00, 132.00,\n",
       "        72.00, 0.00, 57.00, 238.00, 227.00, 238.00, 168.00, 124.00,\n",
       "        69.00, 20.00, 11.00, 0.00, 0.00, 0.00, 0.00, 0.00, 0.00, 0.00],\n",
       "       [0.00, 0.00, 0.00, 0.00, 0.00, 0.00, 0.00, 11.00, 206.00, 253.00,\n",
       "        78.00, 0.00, 0.00, 32.00, 0.00, 30.00, 2.00, 0.00, 0.00, 0.00,\n",
       "        0.00, 0.00, 0.00, 0.00, 0.00, 0.00, 0.00, 0.00],\n",
       "       [0.00, 0.00, 0.00, 0.00, 0.00, 0.00, 6.00, 177.00, 253.00, 132.00,\n",
       "        10.00, 0.00, 0.00, 0.00, 0.00, 0.00, 0.00, 0.00, 0.00, 0.00,\n",
       "        0.00, 0.00, 0.00, 0.00, 0.00, 0.00, 0.00, 0.00],\n",
       "       [0.00, 0.00, 0.00, 0.00, 0.00, 12.00, 133.00, 253.00, 233.00,\n",
       "        15.00, 0.00, 0.00, 0.00, 0.00, 0.00, 0.00, 0.00, 0.00, 0.00,\n",
       "        0.00, 0.00, 0.00, 0.00, 0.00, 0.00, 0.00, 0.00, 0.00],\n",
       "       [0.00, 0.00, 0.00, 0.00, 0.00, 92.00, 253.00, 223.00, 28.00, 0.00,\n",
       "        0.00, 0.00, 0.00, 0.00, 0.00, 0.00, 0.00, 0.00, 0.00, 0.00, 0.00,\n",
       "        0.00, 0.00, 0.00, 0.00, 0.00, 0.00, 0.00],\n",
       "       [0.00, 0.00, 0.00, 0.00, 0.00, 150.00, 253.00, 174.00, 0.00, 0.00,\n",
       "        0.00, 0.00, 0.00, 0.00, 0.00, 0.00, 0.00, 0.00, 0.00, 0.00, 0.00,\n",
       "        0.00, 0.00, 0.00, 0.00, 0.00, 0.00, 0.00],\n",
       "       [0.00, 0.00, 0.00, 0.00, 0.00, 234.00, 253.00, 246.00, 127.00,\n",
       "        49.00, 0.00, 0.00, 0.00, 0.00, 0.00, 0.00, 0.00, 0.00, 0.00,\n",
       "        0.00, 0.00, 0.00, 0.00, 0.00, 0.00, 0.00, 0.00, 0.00],\n",
       "       [0.00, 0.00, 0.00, 0.00, 0.00, 255.00, 253.00, 253.00, 253.00,\n",
       "        251.00, 147.00, 91.00, 121.00, 85.00, 42.00, 42.00, 85.00, 28.00,\n",
       "        0.00, 0.00, 0.00, 0.00, 0.00, 0.00, 0.00, 0.00, 0.00, 0.00],\n",
       "       [0.00, 0.00, 0.00, 0.00, 0.00, 139.00, 253.00, 253.00, 253.00,\n",
       "        253.00, 253.00, 253.00, 253.00, 253.00, 253.00, 253.00, 253.00,\n",
       "        232.00, 168.00, 0.00, 0.00, 0.00, 0.00, 0.00, 0.00, 0.00, 0.00,\n",
       "        0.00],\n",
       "       [0.00, 0.00, 0.00, 0.00, 0.00, 3.00, 53.00, 218.00, 222.00,\n",
       "        251.00, 253.00, 253.00, 253.00, 253.00, 253.00, 253.00, 253.00,\n",
       "        253.00, 252.00, 124.00, 0.00, 0.00, 0.00, 0.00, 0.00, 0.00, 0.00,\n",
       "        0.00],\n",
       "       [0.00, 0.00, 0.00, 0.00, 0.00, 0.00, 0.00, 0.00, 0.00, 67.00,\n",
       "        72.00, 200.00, 253.00, 253.00, 253.00, 253.00, 253.00, 253.00,\n",
       "        253.00, 175.00, 0.00, 0.00, 0.00, 0.00, 0.00, 0.00, 0.00, 0.00],\n",
       "       [0.00, 0.00, 0.00, 0.00, 0.00, 0.00, 0.00, 0.00, 0.00, 0.00, 0.00,\n",
       "        120.00, 253.00, 249.00, 152.00, 51.00, 164.00, 253.00, 253.00,\n",
       "        175.00, 0.00, 0.00, 0.00, 0.00, 0.00, 0.00, 0.00, 0.00],\n",
       "       [0.00, 0.00, 0.00, 0.00, 0.00, 0.00, 0.00, 0.00, 0.00, 0.00, 0.00,\n",
       "        50.00, 253.00, 253.00, 253.00, 188.00, 252.00, 253.00, 253.00,\n",
       "        148.00, 0.00, 0.00, 0.00, 0.00, 0.00, 0.00, 0.00, 0.00],\n",
       "       [0.00, 0.00, 0.00, 0.00, 0.00, 0.00, 0.00, 0.00, 0.00, 0.00, 0.00,\n",
       "        9.00, 167.00, 253.00, 253.00, 253.00, 253.00, 250.00, 175.00,\n",
       "        11.00, 0.00, 0.00, 0.00, 0.00, 0.00, 0.00, 0.00, 0.00],\n",
       "       [0.00, 0.00, 0.00, 0.00, 0.00, 0.00, 0.00, 0.00, 0.00, 0.00, 0.00,\n",
       "        0.00, 23.00, 180.00, 231.00, 253.00, 221.00, 128.00, 0.00, 0.00,\n",
       "        0.00, 0.00, 0.00, 0.00, 0.00, 0.00, 0.00, 0.00],\n",
       "       [0.00, 0.00, 0.00, 0.00, 0.00, 0.00, 0.00, 0.00, 0.00, 0.00, 0.00,\n",
       "        0.00, 0.00, 0.00, 93.00, 149.00, 22.00, 0.00, 0.00, 0.00, 0.00,\n",
       "        0.00, 0.00, 0.00, 0.00, 0.00, 0.00, 0.00],\n",
       "       [0.00, 0.00, 0.00, 0.00, 0.00, 0.00, 0.00, 0.00, 0.00, 0.00, 0.00,\n",
       "        0.00, 0.00, 0.00, 0.00, 0.00, 0.00, 0.00, 0.00, 0.00, 0.00, 0.00,\n",
       "        0.00, 0.00, 0.00, 0.00, 0.00, 0.00],\n",
       "       [0.00, 0.00, 0.00, 0.00, 0.00, 0.00, 0.00, 0.00, 0.00, 0.00, 0.00,\n",
       "        0.00, 0.00, 0.00, 0.00, 0.00, 0.00, 0.00, 0.00, 0.00, 0.00, 0.00,\n",
       "        0.00, 0.00, 0.00, 0.00, 0.00, 0.00],\n",
       "       [0.00, 0.00, 0.00, 0.00, 0.00, 0.00, 0.00, 0.00, 0.00, 0.00, 0.00,\n",
       "        0.00, 0.00, 0.00, 0.00, 0.00, 0.00, 0.00, 0.00, 0.00, 0.00, 0.00,\n",
       "        0.00, 0.00, 0.00, 0.00, 0.00, 0.00],\n",
       "       [0.00, 0.00, 0.00, 0.00, 0.00, 0.00, 0.00, 0.00, 0.00, 0.00, 0.00,\n",
       "        0.00, 0.00, 0.00, 0.00, 0.00, 0.00, 0.00, 0.00, 0.00, 0.00, 0.00,\n",
       "        0.00, 0.00, 0.00, 0.00, 0.00, 0.00]], dtype=float32)"
      ]
     },
     "execution_count": 32,
     "metadata": {},
     "output_type": "execute_result"
    }
   ],
   "source": [
    "X[8\n",
    " ]"
   ]
  },
  {
   "cell_type": "code",
   "execution_count": 33,
   "id": "d7659597",
   "metadata": {},
   "outputs": [
    {
     "ename": "FloatingPointError",
     "evalue": "overflow encountered in short_scalars",
     "output_type": "error",
     "traceback": [
      "\u001b[0;31m---------------------------------------------------------------------------\u001b[0m",
      "\u001b[0;31mFloatingPointError\u001b[0m                        Traceback (most recent call last)",
      "\u001b[0;32m<ipython-input-33-ad3d9ee2245e>\u001b[0m in \u001b[0;36m<module>\u001b[0;34m\u001b[0m\n\u001b[1;32m      1\u001b[0m \u001b[0mold_settings\u001b[0m \u001b[0;34m=\u001b[0m \u001b[0mnp\u001b[0m\u001b[0;34m.\u001b[0m\u001b[0mseterr\u001b[0m\u001b[0;34m(\u001b[0m\u001b[0mall\u001b[0m\u001b[0;34m=\u001b[0m\u001b[0;34m'warn'\u001b[0m\u001b[0;34m,\u001b[0m \u001b[0mover\u001b[0m\u001b[0;34m=\u001b[0m\u001b[0;34m'raise'\u001b[0m\u001b[0;34m)\u001b[0m\u001b[0;34m\u001b[0m\u001b[0;34m\u001b[0m\u001b[0m\n\u001b[0;32m----> 2\u001b[0;31m \u001b[0mnp\u001b[0m\u001b[0;34m.\u001b[0m\u001b[0mint16\u001b[0m\u001b[0;34m(\u001b[0m\u001b[0;36m32000\u001b[0m\u001b[0;34m)\u001b[0m \u001b[0;34m*\u001b[0m \u001b[0mnp\u001b[0m\u001b[0;34m.\u001b[0m\u001b[0mint16\u001b[0m\u001b[0;34m(\u001b[0m\u001b[0;36m3\u001b[0m\u001b[0;34m)\u001b[0m\u001b[0;34m\u001b[0m\u001b[0;34m\u001b[0m\u001b[0m\n\u001b[0m",
      "\u001b[0;31mFloatingPointError\u001b[0m: overflow encountered in short_scalars"
     ]
    }
   ],
   "source": [
    "old_settings = np.seterr(all='warn', over='raise')\n",
    "np.int16(32000) * np.int16(3)"
   ]
  },
  {
   "cell_type": "code",
   "execution_count": 84,
   "id": "f1689699",
   "metadata": {},
   "outputs": [],
   "source": [
    "\n",
    "data = [(vec(X[i]/2), vec(conv(sobel_feldman_kernel, X[i]/2))) for i in range(100)]\n"
   ]
  },
  {
   "cell_type": "code",
   "execution_count": 85,
   "id": "3545e0c4",
   "metadata": {},
   "outputs": [
    {
     "data": {
      "text/plain": [
       "(576, 1)"
      ]
     },
     "execution_count": 85,
     "metadata": {},
     "output_type": "execute_result"
    }
   ],
   "source": [
    "data[0][1].shape"
   ]
  },
  {
   "cell_type": "code",
   "execution_count": 95,
   "id": "7f3e0f57",
   "metadata": {},
   "outputs": [],
   "source": [
    "# x ->  m @ x = l -> loss(y_hat, l)\n",
    "j = 0\n",
    "ran_k =  np.ones((5,5))\n",
    "for tup in data[:16]:\n",
    "    x = tup[0]\n",
    "\n",
    "\n",
    "    y_hat = tup[1]\n",
    "\n",
    "  \n",
    "    \n",
    "    first3_loss=[]\n",
    "    last3_loss=[]\n",
    "\n",
    "    for i in range(8):\n",
    "\n",
    "        y = vec(conv(ran_k, sqr(x)))\n",
    "        m = matrix(x, y)\n",
    "        l = m @ x\n",
    "\n",
    "        dloss_dl = 0.003472222222222222 * (l - y_hat)\n",
    "        dl_dm = x\n",
    "\n",
    "        dloss_dm = dloss_dl @ dl_dm.T\n",
    "       # print(loss(y_hat, l))\n",
    "\n",
    "        m = m - 0.0001 * dloss_dm\n",
    "\n",
    "        l = m @ x\n",
    "        #print(loss(y_hat, l))\n",
    "\n",
    "        ran_k = kernel(x, l)\n",
    "        if i in [0,1,2]:\n",
    "            first3_loss.append(loss(y_hat, l))\n",
    "        if i in [13,14,15]:\n",
    "            last3_loss.append(loss(y_hat, l))\n",
    "\n",
    "\n",
    "\n",
    "    #imshow(ran_k)\n",
    "    #show()\n",
    "\n",
    "    if sum(last3_loss) > sum(first3_loss) and print(sum(last3_loss)/3) > 10000:        \n",
    "        raise Exception(j)\n",
    "\n",
    "    j+=1"
   ]
  },
  {
   "cell_type": "code",
   "execution_count": 96,
   "id": "b8dbba44",
   "metadata": {},
   "outputs": [
    {
     "data": {
      "text/plain": [
       "<matplotlib.image.AxesImage at 0x7f127c971790>"
      ]
     },
     "execution_count": 96,
     "metadata": {},
     "output_type": "execute_result"
    },
    {
     "data": {
      "image/png": "[encoded data removed]",
      "text/plain": [
       "<Figure size 432x288 with 1 Axes>"
      ]
     },
     "metadata": {
      "needs_background": "light"
     },
     "output_type": "display_data"
    }
   ],
   "source": [
    "imshow(ran_k)"
   ]
  },
  {
   "cell_type": "code",
   "execution_count": 97,
   "id": "8555b059",
   "metadata": {},
   "outputs": [
    {
     "data": {
      "text/plain": [
       "array([[1.00, 0.00, -0.00, 0.00, -1.00],\n",
       "       [2.00, -0.00, 0.00, -0.00, -2.00],\n",
       "       [2.00, 1.00, 0.00, -1.00, -2.00],\n",
       "       [2.00, -0.00, 0.00, -0.00, -2.00],\n",
       "       [1.00, 0.00, -0.00, 0.00, -1.00]])"
      ]
     },
     "execution_count": 97,
     "metadata": {},
     "output_type": "execute_result"
    }
   ],
   "source": [
    "ran_k"
   ]
  },
  {
   "cell_type": "code",
   "execution_count": 92,
   "id": "c13d1009",
   "metadata": {},
   "outputs": [
    {
     "data": {
      "text/plain": [
       "39"
      ]
     },
     "execution_count": 92,
     "metadata": {},
     "output_type": "execute_result"
    }
   ],
   "source": [
    "j"
   ]
  },
  {
   "cell_type": "code",
   "execution_count": 98,
   "id": "177ec417",
   "metadata": {},
   "outputs": [
    {
     "name": "stdout",
     "output_type": "stream",
     "text": [
      "/home/const/go/src/website/numpy_mnist/solving_MNIST\r\n"
     ]
    }
   ],
   "source": [
    "!pwd"
   ]
  },
  {
   "cell_type": "code",
   "execution_count": null,
   "id": "092996e2",
   "metadata": {},
   "outputs": [],
   "source": []
  }
 ],
 "metadata": {
  "kernelspec": {
   "display_name": "Python 3",
   "language": "python",
   "name": "python3"
  },
  "language_info": {
   "codemirror_mode": {
    "name": "ipython",
    "version": 3
   },
   "file_extension": ".py",
   "mimetype": "text/x-python",
   "name": "python",
   "nbconvert_exporter": "python",
   "pygments_lexer": "ipython3",
   "version": "3.9.6"
  }
 },
 "nbformat": 4,
 "nbformat_minor": 5
}
